{
  "cells": [
    {
      "cell_type": "markdown",
      "metadata": {
        "id": "view-in-github",
        "colab_type": "text"
      },
      "source": [
        "<a href=\"https://colab.research.google.com/github/madhurapi/ML-Projects/blob/main/Fire_Acoustic.ipynb\" target=\"_parent\"><img src=\"https://colab.research.google.com/assets/colab-badge.svg\" alt=\"Open In Colab\"/></a>"
      ]
    },
    {
      "cell_type": "code",
      "execution_count": null,
      "id": "1cd640de",
      "metadata": {
        "id": "1cd640de"
      },
      "outputs": [],
      "source": [
        "# SHORT DESCRIPTION: The dataset was obtained as a result of the extinguishing tests of four different fuel flames with a \n",
        "# sound wave extinguishing system. \n",
        "\n",
        "# The sound wave fire-extinguishing system consists of 4 subwoofers with a total power of 4,000 Watt placed in the \n",
        "# collimator cabinet. \n",
        "\n",
        "# There are two amplifiers that enable the sound come to these subwoofers as boosted. \n",
        "\n",
        "# Power supply that powers the system and filter circuit ensuring that the sound frequencies are properly transmitted to the \n",
        "# system is located within the control unit. \n",
        "\n",
        "# While computer is used as frequency source, anemometer was used to measure the airflow resulted from sound waves during \n",
        "# the extinguishing phase of the flame, and a decibel meter to measure the sound intensity. \n",
        "\n",
        "# An infrared thermometer was used to measure the temperature of the flame and the fuel can, and a camera is installed to \n",
        "# detect the extinction time of the flame. A total of 17,442 tests were conducted with this experimental setup. \n",
        "\n",
        "# The experiments are planned as follows:\n",
        "# 1. Three different liquid fuels and LPG fuel were used to create the flame.\n",
        "\n",
        "# 2. 5 different sizes of liquid fuel cans are used to achieve different size of flames.\n",
        "\n",
        "# 3. Half and full gas adjustment is used for LPG fuel.\n",
        "\n",
        "# 4. While carrying out each experiment, the fuel container, at 10 cm distance, \n",
        "# was moved forward up to 190 cm by increasing the distance by 10 cm each time.\n",
        "\n",
        "# 5. Along with the fuel container, anemometer and decibel meter were moved forward in the same dimensions.\n",
        "\n",
        "# 6. Fire extinguishing experiments was conducted with 54 different frequency sound waves at each distance and flame size.\n",
        "# Throughout the flame extinguishing experiments,\n",
        "# the data obtained from each measurement device was recorded and a dataset was created.\n",
        "\n",
        "# The dataset includes the features of fuel container size representing the flame size, \n",
        "# fuel type, frequency, decibel, distance, airflow and flame extinction. \n",
        "\n",
        "# Accordingly, 6 input features and 1 output feature will be used in models.\n",
        "\n",
        "# The explanation of a total of seven features for liquid fuels in the dataset is given in Table 1, \n",
        "# and the explanation of 7 features for LPG fuel is given in Table 2.\n",
        "\n",
        "# The status property (flame extinction or non-extinction states) can be predicted by using six features in the dataset.\n",
        "\n",
        "# Status and fuel features are categorical, while other features are numerical. \n",
        "# 8,759 of the 17,442 test results are the non-extinguishing state of the flame. \n",
        "# 8,683 of them are the extinction state of the flame. \n",
        "# According to these numbers, it can be said that the class distribution of the dataset is almost equal.\n",
        "\n",
        "# # KEYWORDS: Fire, Extinguishing System, Sound wave, Machine learning, Fire safety, Low frequency, Acoustic"
      ]
    },
    {
      "cell_type": "code",
      "execution_count": null,
      "id": "07f09035",
      "metadata": {
        "id": "07f09035"
      },
      "outputs": [],
      "source": [
        "# 0 indicates the non-extinction state, 1 indicates the extinction state\n"
      ]
    },
    {
      "cell_type": "code",
      "execution_count": null,
      "id": "d2d79a85",
      "metadata": {
        "id": "d2d79a85"
      },
      "outputs": [],
      "source": [
        "import os\n",
        "import pandas as pd \n",
        "import warnings \n",
        "warnings.filterwarnings('ignore') \n",
        "import numpy as np \n",
        "import matplotlib.pyplot as plt \n",
        "import seaborn as sns \n",
        "import scipy\n",
        "from scipy import stats \n",
        "import statsmodels.api as sm \n",
        "from statsmodels.formula.api import ols \n",
        "from statsmodels.stats.multicomp import pairwise_tukeyhsd \n",
        "from scipy.stats import chi2, chi2_contingency\n",
        "import statsmodels.formula.api as smf\n",
        "from sklearn.linear_model import LinearRegression\n",
        "from sklearn.preprocessing import LabelEncoder, OneHotEncoder"
      ]
    },
    {
      "cell_type": "code",
      "execution_count": null,
      "id": "f5d246e1",
      "metadata": {
        "id": "f5d246e1"
      },
      "outputs": [],
      "source": [
        "file = pd.read_excel(open('Acoustic_Extinguisher_Fire_Dataset.xlsx','rb'),\n",
        "                    sheet_name = 'A_E_Fire_Dataset')"
      ]
    },
    {
      "cell_type": "code",
      "execution_count": null,
      "id": "aa90e118",
      "metadata": {
        "id": "aa90e118"
      },
      "outputs": [],
      "source": [
        "df = pd.DataFrame(file)"
      ]
    },
    {
      "cell_type": "code",
      "execution_count": null,
      "id": "8d7f5443",
      "metadata": {
        "id": "8d7f5443",
        "outputId": "9f94b1bb-d402-41a8-d3cb-7cb436351703"
      },
      "outputs": [
        {
          "data": {
            "text/html": [
              "<div>\n",
              "<style scoped>\n",
              "    .dataframe tbody tr th:only-of-type {\n",
              "        vertical-align: middle;\n",
              "    }\n",
              "\n",
              "    .dataframe tbody tr th {\n",
              "        vertical-align: top;\n",
              "    }\n",
              "\n",
              "    .dataframe thead th {\n",
              "        text-align: right;\n",
              "    }\n",
              "</style>\n",
              "<table border=\"1\" class=\"dataframe\">\n",
              "  <thead>\n",
              "    <tr style=\"text-align: right;\">\n",
              "      <th></th>\n",
              "      <th>SIZE</th>\n",
              "      <th>FUEL</th>\n",
              "      <th>DISTANCE</th>\n",
              "      <th>DESIBEL</th>\n",
              "      <th>AIRFLOW</th>\n",
              "      <th>FREQUENCY</th>\n",
              "      <th>STATUS</th>\n",
              "    </tr>\n",
              "  </thead>\n",
              "  <tbody>\n",
              "    <tr>\n",
              "      <th>0</th>\n",
              "      <td>1</td>\n",
              "      <td>gasoline</td>\n",
              "      <td>10</td>\n",
              "      <td>96</td>\n",
              "      <td>0.0</td>\n",
              "      <td>75</td>\n",
              "      <td>0</td>\n",
              "    </tr>\n",
              "    <tr>\n",
              "      <th>1</th>\n",
              "      <td>1</td>\n",
              "      <td>gasoline</td>\n",
              "      <td>10</td>\n",
              "      <td>96</td>\n",
              "      <td>0.0</td>\n",
              "      <td>72</td>\n",
              "      <td>1</td>\n",
              "    </tr>\n",
              "    <tr>\n",
              "      <th>2</th>\n",
              "      <td>1</td>\n",
              "      <td>gasoline</td>\n",
              "      <td>10</td>\n",
              "      <td>96</td>\n",
              "      <td>2.6</td>\n",
              "      <td>70</td>\n",
              "      <td>1</td>\n",
              "    </tr>\n",
              "    <tr>\n",
              "      <th>3</th>\n",
              "      <td>1</td>\n",
              "      <td>gasoline</td>\n",
              "      <td>10</td>\n",
              "      <td>96</td>\n",
              "      <td>3.2</td>\n",
              "      <td>68</td>\n",
              "      <td>1</td>\n",
              "    </tr>\n",
              "    <tr>\n",
              "      <th>4</th>\n",
              "      <td>1</td>\n",
              "      <td>gasoline</td>\n",
              "      <td>10</td>\n",
              "      <td>109</td>\n",
              "      <td>4.5</td>\n",
              "      <td>67</td>\n",
              "      <td>1</td>\n",
              "    </tr>\n",
              "  </tbody>\n",
              "</table>\n",
              "</div>"
            ],
            "text/plain": [
              "   SIZE      FUEL  DISTANCE  DESIBEL  AIRFLOW  FREQUENCY  STATUS\n",
              "0     1  gasoline        10       96      0.0         75       0\n",
              "1     1  gasoline        10       96      0.0         72       1\n",
              "2     1  gasoline        10       96      2.6         70       1\n",
              "3     1  gasoline        10       96      3.2         68       1\n",
              "4     1  gasoline        10      109      4.5         67       1"
            ]
          },
          "execution_count": 6,
          "metadata": {},
          "output_type": "execute_result"
        }
      ],
      "source": [
        "df.head()"
      ]
    },
    {
      "cell_type": "code",
      "execution_count": null,
      "id": "efafc99b",
      "metadata": {
        "id": "efafc99b",
        "outputId": "b91a7ab0-53a7-4ea8-d6fb-87214914ac8a"
      },
      "outputs": [
        {
          "name": "stdout",
          "output_type": "stream",
          "text": [
            "<class 'pandas.core.frame.DataFrame'>\n",
            "RangeIndex: 17442 entries, 0 to 17441\n",
            "Data columns (total 7 columns):\n",
            " #   Column     Non-Null Count  Dtype  \n",
            "---  ------     --------------  -----  \n",
            " 0   SIZE       17442 non-null  int64  \n",
            " 1   FUEL       17442 non-null  object \n",
            " 2   DISTANCE   17442 non-null  int64  \n",
            " 3   DESIBEL    17442 non-null  int64  \n",
            " 4   AIRFLOW    17442 non-null  float64\n",
            " 5   FREQUENCY  17442 non-null  int64  \n",
            " 6   STATUS     17442 non-null  int64  \n",
            "dtypes: float64(1), int64(5), object(1)\n",
            "memory usage: 954.0+ KB\n"
          ]
        }
      ],
      "source": [
        "df.info()"
      ]
    },
    {
      "cell_type": "code",
      "execution_count": null,
      "id": "17e95fb8",
      "metadata": {
        "id": "17e95fb8",
        "outputId": "d1026efa-8e14-40d7-ec3a-f2030724a0c4"
      },
      "outputs": [
        {
          "data": {
            "text/plain": [
              "SIZE         0\n",
              "FUEL         0\n",
              "DISTANCE     0\n",
              "DESIBEL      0\n",
              "AIRFLOW      0\n",
              "FREQUENCY    0\n",
              "STATUS       0\n",
              "dtype: int64"
            ]
          },
          "execution_count": 8,
          "metadata": {},
          "output_type": "execute_result"
        }
      ],
      "source": [
        "df.isnull().sum()"
      ]
    },
    {
      "cell_type": "code",
      "execution_count": null,
      "id": "3f37d23c",
      "metadata": {
        "id": "3f37d23c",
        "outputId": "6c1159e8-7103-4f2c-de94-cc124afa1809"
      },
      "outputs": [
        {
          "data": {
            "image/png": "[encoded data removed]",
            "text/plain": [
              "<Figure size 432x288 with 6 Axes>"
            ]
          },
          "metadata": {
            "needs_background": "light"
          },
          "output_type": "display_data"
        }
      ],
      "source": [
        "# creating a basic histogram\n",
        "df.hist()\n",
        "plt.show()"
      ]
    },
    {
      "cell_type": "code",
      "execution_count": null,
      "id": "5b88a579",
      "metadata": {
        "id": "5b88a579",
        "outputId": "6f24d896-ba76-4a56-84e3-ed83c6286286"
      },
      "outputs": [
        {
          "data": {
            "text/plain": [
              "1    3078\n",
              "2    3078\n",
              "3    3078\n",
              "4    3078\n",
              "5    3078\n",
              "6    1026\n",
              "7    1026\n",
              "Name: SIZE, dtype: int64"
            ]
          },
          "execution_count": 10,
          "metadata": {},
          "output_type": "execute_result"
        }
      ],
      "source": [
        "df['SIZE'].value_counts()"
      ]
    },
    {
      "cell_type": "code",
      "execution_count": null,
      "id": "68b956e3",
      "metadata": {
        "id": "68b956e3",
        "outputId": "625def7a-3835-4d6d-e797-cbef938332af"
      },
      "outputs": [
        {
          "data": {
            "text/plain": [
              "10     918\n",
              "110    918\n",
              "180    918\n",
              "170    918\n",
              "160    918\n",
              "150    918\n",
              "140    918\n",
              "130    918\n",
              "120    918\n",
              "100    918\n",
              "20     918\n",
              "90     918\n",
              "80     918\n",
              "70     918\n",
              "60     918\n",
              "50     918\n",
              "40     918\n",
              "30     918\n",
              "190    918\n",
              "Name: DISTANCE, dtype: int64"
            ]
          },
          "execution_count": 11,
          "metadata": {},
          "output_type": "execute_result"
        }
      ],
      "source": [
        "df['DISTANCE'].value_counts()"
      ]
    },
    {
      "cell_type": "code",
      "execution_count": null,
      "id": "d3a471fd",
      "metadata": {
        "id": "d3a471fd",
        "outputId": "30ae6771-18e9-4ba5-95ae-286b0f4cef8d"
      },
      "outputs": [
        {
          "data": {
            "text/plain": [
              "0    8759\n",
              "1    8683\n",
              "Name: STATUS, dtype: int64"
            ]
          },
          "execution_count": 12,
          "metadata": {},
          "output_type": "execute_result"
        }
      ],
      "source": [
        "df['STATUS'].value_counts()"
      ]
    },
    {
      "cell_type": "code",
      "execution_count": null,
      "id": "2f18a7f9",
      "metadata": {
        "id": "2f18a7f9"
      },
      "outputs": [],
      "source": [
        "#alomost equally classified"
      ]
    },
    {
      "cell_type": "code",
      "execution_count": null,
      "id": "b470b37d",
      "metadata": {
        "id": "b470b37d",
        "outputId": "76ed3c7f-5788-4d60-9b41-3593a7102220"
      },
      "outputs": [
        {
          "data": {
            "text/plain": [
              "<AxesSubplot:xlabel='STATUS', ylabel='FUEL'>"
            ]
          },
          "execution_count": 14,
          "metadata": {},
          "output_type": "execute_result"
        },
        {
          "data": {
            "image/png": "[encoded data removed]",
            "text/plain": [
              "<Figure size 432x288 with 1 Axes>"
            ]
          },
          "metadata": {
            "needs_background": "light"
          },
          "output_type": "display_data"
        }
      ],
      "source": [
        "#status of each fuel\n",
        "sns.barplot(y= 'FUEL', x='STATUS',data=df, palette='plasma')"
      ]
    },
    {
      "cell_type": "code",
      "execution_count": null,
      "id": "854c2d51",
      "metadata": {
        "id": "854c2d51",
        "outputId": "d0e23f8d-16ff-45ad-f0bb-d7b19b3bd647"
      },
      "outputs": [
        {
          "data": {
            "text/plain": [
              "<AxesSubplot:xlabel='FUEL', ylabel='SIZE'>"
            ]
          },
          "execution_count": 15,
          "metadata": {},
          "output_type": "execute_result"
        },
        {
          "data": {
            "image/png": "[encoded data removed]",
            "text/plain": [
              "<Figure size 432x288 with 1 Axes>"
            ]
          },
          "metadata": {
            "needs_background": "light"
          },
          "output_type": "display_data"
        }
      ],
      "source": [
        "#flame size for each fuel\n",
        "sns.barplot(x= 'FUEL', y='SIZE',data=df, palette='mako')"
      ]
    },
    {
      "cell_type": "code",
      "execution_count": null,
      "id": "0028c9e9",
      "metadata": {
        "id": "0028c9e9"
      },
      "outputs": [],
      "source": [
        "#lpg has highest flame size. rest three fuels are have same size."
      ]
    },
    {
      "cell_type": "code",
      "execution_count": null,
      "id": "8785ebdc",
      "metadata": {
        "id": "8785ebdc",
        "outputId": "0630120c-4d2e-443c-f6b8-2ac5f77b03de"
      },
      "outputs": [
        {
          "data": {
            "text/plain": [
              "<AxesSubplot:xlabel='FUEL', ylabel='DISTANCE'>"
            ]
          },
          "execution_count": 17,
          "metadata": {},
          "output_type": "execute_result"
        },
        {
          "data": {
            "image/png": "[encoded data removed]",
            "text/plain": [
              "<Figure size 432x288 with 1 Axes>"
            ]
          },
          "metadata": {
            "needs_background": "light"
          },
          "output_type": "display_data"
        }
      ],
      "source": [
        "#distance of each fuel\n",
        "sns.barplot(x= 'FUEL', y='DISTANCE',data=df, palette='plasma')"
      ]
    },
    {
      "cell_type": "code",
      "execution_count": null,
      "id": "a76482f7",
      "metadata": {
        "id": "a76482f7",
        "outputId": "1d4e603c-02ae-42f0-df03-30ae1959f186"
      },
      "outputs": [
        {
          "data": {
            "image/png": "[encoded data removed]",
            "text/plain": [
              "<Figure size 1080x1080 with 42 Axes>"
            ]
          },
          "metadata": {
            "needs_background": "light"
          },
          "output_type": "display_data"
        }
      ],
      "source": [
        "FILE1 = df[['DISTANCE','SIZE','DESIBEL','AIRFLOW','FREQUENCY','STATUS']]\n",
        "sns.pairplot(FILE1,kind='reg')\n",
        "# to show\n",
        "plt.show()"
      ]
    },
    {
      "cell_type": "code",
      "execution_count": null,
      "id": "baf918e5",
      "metadata": {
        "id": "baf918e5",
        "outputId": "c445e215-2b41-4136-d959-f0edf56d3cf8"
      },
      "outputs": [
        {
          "data": {
            "image/png": "[encoded data removed]",
            "text/plain": [
              "<Figure size 432x288 with 2 Axes>"
            ]
          },
          "metadata": {
            "needs_background": "light"
          },
          "output_type": "display_data"
        }
      ],
      "source": [
        "corrMatrix = df.corr()\n",
        "sns.heatmap(corrMatrix, annot=True)\n",
        "plt.show()"
      ]
    },
    {
      "cell_type": "code",
      "execution_count": null,
      "id": "4a554261",
      "metadata": {
        "id": "4a554261",
        "outputId": "e151ba69-d2cf-47c8-cbea-407a8f0afe1d"
      },
      "outputs": [
        {
          "data": {
            "text/html": [
              "<div>\n",
              "<style scoped>\n",
              "    .dataframe tbody tr th:only-of-type {\n",
              "        vertical-align: middle;\n",
              "    }\n",
              "\n",
              "    .dataframe tbody tr th {\n",
              "        vertical-align: top;\n",
              "    }\n",
              "\n",
              "    .dataframe thead th {\n",
              "        text-align: right;\n",
              "    }\n",
              "</style>\n",
              "<table border=\"1\" class=\"dataframe\">\n",
              "  <thead>\n",
              "    <tr style=\"text-align: right;\">\n",
              "      <th></th>\n",
              "      <th>SIZE</th>\n",
              "      <th>DISTANCE</th>\n",
              "      <th>DESIBEL</th>\n",
              "      <th>AIRFLOW</th>\n",
              "      <th>FREQUENCY</th>\n",
              "      <th>STATUS</th>\n",
              "    </tr>\n",
              "  </thead>\n",
              "  <tbody>\n",
              "    <tr>\n",
              "      <th>SIZE</th>\n",
              "      <td>1.000000e+00</td>\n",
              "      <td>-2.437871e-15</td>\n",
              "      <td>-6.125585e-15</td>\n",
              "      <td>1.677898e-16</td>\n",
              "      <td>9.978281e-17</td>\n",
              "      <td>-0.096947</td>\n",
              "    </tr>\n",
              "    <tr>\n",
              "      <th>DISTANCE</th>\n",
              "      <td>-2.437871e-15</td>\n",
              "      <td>1.000000e+00</td>\n",
              "      <td>-2.385897e-01</td>\n",
              "      <td>-7.074906e-01</td>\n",
              "      <td>-2.452947e-17</td>\n",
              "      <td>-0.644051</td>\n",
              "    </tr>\n",
              "    <tr>\n",
              "      <th>DESIBEL</th>\n",
              "      <td>-6.125585e-15</td>\n",
              "      <td>-2.385897e-01</td>\n",
              "      <td>1.000000e+00</td>\n",
              "      <td>3.769153e-01</td>\n",
              "      <td>5.617409e-01</td>\n",
              "      <td>0.203970</td>\n",
              "    </tr>\n",
              "    <tr>\n",
              "      <th>AIRFLOW</th>\n",
              "      <td>1.677898e-16</td>\n",
              "      <td>-7.074906e-01</td>\n",
              "      <td>3.769153e-01</td>\n",
              "      <td>1.000000e+00</td>\n",
              "      <td>-2.120462e-01</td>\n",
              "      <td>0.760628</td>\n",
              "    </tr>\n",
              "    <tr>\n",
              "      <th>FREQUENCY</th>\n",
              "      <td>9.978281e-17</td>\n",
              "      <td>-2.452947e-17</td>\n",
              "      <td>5.617409e-01</td>\n",
              "      <td>-2.120462e-01</td>\n",
              "      <td>1.000000e+00</td>\n",
              "      <td>-0.244203</td>\n",
              "    </tr>\n",
              "    <tr>\n",
              "      <th>STATUS</th>\n",
              "      <td>-9.694718e-02</td>\n",
              "      <td>-6.440506e-01</td>\n",
              "      <td>2.039698e-01</td>\n",
              "      <td>7.606279e-01</td>\n",
              "      <td>-2.442030e-01</td>\n",
              "      <td>1.000000</td>\n",
              "    </tr>\n",
              "  </tbody>\n",
              "</table>\n",
              "</div>"
            ],
            "text/plain": [
              "                   SIZE      DISTANCE       DESIBEL       AIRFLOW  \\\n",
              "SIZE       1.000000e+00 -2.437871e-15 -6.125585e-15  1.677898e-16   \n",
              "DISTANCE  -2.437871e-15  1.000000e+00 -2.385897e-01 -7.074906e-01   \n",
              "DESIBEL   -6.125585e-15 -2.385897e-01  1.000000e+00  3.769153e-01   \n",
              "AIRFLOW    1.677898e-16 -7.074906e-01  3.769153e-01  1.000000e+00   \n",
              "FREQUENCY  9.978281e-17 -2.452947e-17  5.617409e-01 -2.120462e-01   \n",
              "STATUS    -9.694718e-02 -6.440506e-01  2.039698e-01  7.606279e-01   \n",
              "\n",
              "              FREQUENCY    STATUS  \n",
              "SIZE       9.978281e-17 -0.096947  \n",
              "DISTANCE  -2.452947e-17 -0.644051  \n",
              "DESIBEL    5.617409e-01  0.203970  \n",
              "AIRFLOW   -2.120462e-01  0.760628  \n",
              "FREQUENCY  1.000000e+00 -0.244203  \n",
              "STATUS    -2.442030e-01  1.000000  "
            ]
          },
          "execution_count": 20,
          "metadata": {},
          "output_type": "execute_result"
        }
      ],
      "source": [
        "corrMatrix"
      ]
    },
    {
      "cell_type": "code",
      "execution_count": null,
      "id": "0f2537aa",
      "metadata": {
        "id": "0f2537aa",
        "outputId": "e2424dd3-0e37-446f-e382-378565bfbbca"
      },
      "outputs": [
        {
          "data": {
            "text/plain": [
              "<AxesSubplot:>"
            ]
          },
          "execution_count": 70,
          "metadata": {},
          "output_type": "execute_result"
        },
        {
          "data": {
            "image/png": "[encoded data removed]",
            "text/plain": [
              "<Figure size 432x288 with 1 Axes>"
            ]
          },
          "metadata": {
            "needs_background": "light"
          },
          "output_type": "display_data"
        }
      ],
      "source": [
        "df.boxplot('DISTANCE')"
      ]
    },
    {
      "cell_type": "code",
      "execution_count": null,
      "id": "00821257",
      "metadata": {
        "id": "00821257",
        "outputId": "0dfa66ac-b33e-4ba6-c99f-6c9608cf8382"
      },
      "outputs": [
        {
          "data": {
            "text/plain": [
              "<AxesSubplot:title={'center':'SIZE'}, xlabel='STATUS'>"
            ]
          },
          "execution_count": 73,
          "metadata": {},
          "output_type": "execute_result"
        },
        {
          "data": {
            "image/png": "[encoded data removed]",
            "text/plain": [
              "<Figure size 432x288 with 1 Axes>"
            ]
          },
          "metadata": {
            "needs_background": "light"
          },
          "output_type": "display_data"
        }
      ],
      "source": [
        "df.boxplot('SIZE','STATUS')"
      ]
    },
    {
      "cell_type": "code",
      "execution_count": null,
      "id": "f8bf4fb4",
      "metadata": {
        "id": "f8bf4fb4",
        "outputId": "ccbf4c2a-942b-4322-c422-cc25223c2d1e"
      },
      "outputs": [
        {
          "name": "stdout",
          "output_type": "stream",
          "text": [
            "<class 'pandas.core.frame.DataFrame'>\n",
            "RangeIndex: 17442 entries, 0 to 17441\n",
            "Data columns (total 7 columns):\n",
            " #   Column     Non-Null Count  Dtype  \n",
            "---  ------     --------------  -----  \n",
            " 0   SIZE       17442 non-null  int64  \n",
            " 1   FUEL       17442 non-null  object \n",
            " 2   DISTANCE   17442 non-null  int64  \n",
            " 3   DESIBEL    17442 non-null  int64  \n",
            " 4   AIRFLOW    17442 non-null  float64\n",
            " 5   FREQUENCY  17442 non-null  int64  \n",
            " 6   STATUS     17442 non-null  int64  \n",
            "dtypes: float64(1), int64(5), object(1)\n",
            "memory usage: 954.0+ KB\n"
          ]
        }
      ],
      "source": [
        "df.info()"
      ]
    },
    {
      "cell_type": "code",
      "execution_count": null,
      "id": "3a3800ac",
      "metadata": {
        "id": "3a3800ac"
      },
      "outputs": [],
      "source": [
        "from statsmodels.stats.outliers_influence import variance_inflation_factor"
      ]
    },
    {
      "cell_type": "code",
      "execution_count": null,
      "id": "fc575b6f",
      "metadata": {
        "id": "fc575b6f",
        "outputId": "05330e03-8b0d-43ab-ab2c-aaf5e462b7cb"
      },
      "outputs": [
        {
          "name": "stdout",
          "output_type": "stream",
          "text": [
            "<class 'pandas.core.frame.DataFrame'>\n",
            "RangeIndex: 17442 entries, 0 to 17441\n",
            "Data columns (total 5 columns):\n",
            " #   Column     Non-Null Count  Dtype  \n",
            "---  ------     --------------  -----  \n",
            " 0   SIZE       17442 non-null  int64  \n",
            " 1   DISTANCE   17442 non-null  int64  \n",
            " 2   DESIBEL    17442 non-null  int64  \n",
            " 3   AIRFLOW    17442 non-null  float64\n",
            " 4   FREQUENCY  17442 non-null  int64  \n",
            "dtypes: float64(1), int64(4)\n",
            "memory usage: 681.5 KB\n",
            "<class 'pandas.core.frame.DataFrame'>\n",
            "RangeIndex: 17442 entries, 0 to 17441\n",
            "Data columns (total 1 columns):\n",
            " #   Column  Non-Null Count  Dtype\n",
            "---  ------  --------------  -----\n",
            " 0   STATUS  17442 non-null  int64\n",
            "dtypes: int64(1)\n",
            "memory usage: 136.4 KB\n"
          ]
        }
      ],
      "source": [
        "Xx = df.iloc[:,[0,2,3,4,5]]\n",
        "y = df.iloc[:,[6]]\n",
        "Xx.info()\n",
        "y.info()"
      ]
    },
    {
      "cell_type": "code",
      "execution_count": null,
      "id": "d7c5e3d1",
      "metadata": {
        "id": "d7c5e3d1",
        "outputId": "6ad72ded-f93a-4ac5-c3cd-b5e3413ee5c8"
      },
      "outputs": [
        {
          "name": "stdout",
          "output_type": "stream",
          "text": [
            "     feature        VIF\n",
            "0       SIZE   4.722805\n",
            "1   DISTANCE   9.915030\n",
            "2    DESIBEL  45.637285\n",
            "3    AIRFLOW   9.860938\n",
            "4  FREQUENCY   5.346301\n"
          ]
        }
      ],
      "source": [
        "vif_data = pd.DataFrame()\n",
        "vif_data[\"feature\"] = Xx.columns\n",
        "  \n",
        "# calculating VIF for each feature\n",
        "vif_data[\"VIF\"] = [variance_inflation_factor(Xx.values, i)\n",
        "                          for i in range(len(Xx.columns))]\n",
        "  \n",
        "print(vif_data)"
      ]
    },
    {
      "cell_type": "code",
      "execution_count": null,
      "id": "5f5ce167",
      "metadata": {
        "id": "5f5ce167"
      },
      "outputs": [],
      "source": [
        "# According to VIF Distance,Desibel,Airflow are affecting the least"
      ]
    },
    {
      "cell_type": "code",
      "execution_count": null,
      "id": "fefc8584",
      "metadata": {
        "id": "fefc8584",
        "outputId": "bdfd9321-4df0-40a1-aa7f-1c9f8f017776"
      },
      "outputs": [
        {
          "name": "stdout",
          "output_type": "stream",
          "text": [
            "                 Generalized Linear Model Regression Results                  \n",
            "==============================================================================\n",
            "Dep. Variable:                 STATUS   No. Observations:                17442\n",
            "Model:                            GLM   Df Residuals:                    17439\n",
            "Model Family:                Binomial   Df Model:                            2\n",
            "Link Function:                  Logit   Scale:                          1.0000\n",
            "Method:                          IRLS   Log-Likelihood:                -11471.\n",
            "Date:                Sat, 16 Jul 2022   Deviance:                       22941.\n",
            "Time:                        09:08:26   Pearson chi2:                 1.74e+04\n",
            "No. Iterations:                     4   Pseudo R-squ. (CS):            0.06853\n",
            "Covariance Type:            nonrobust                                         \n",
            "==============================================================================\n",
            "                 coef    std err          z      P>|z|      [0.025      0.975]\n",
            "------------------------------------------------------------------------------\n",
            "Intercept      1.1693      0.043     27.218      0.000       1.085       1.253\n",
            "SIZE          -0.1187      0.009    -13.154      0.000      -0.136      -0.101\n",
            "FREQUENCY     -0.0246      0.001    -31.689      0.000      -0.026      -0.023\n",
            "==============================================================================\n"
          ]
        }
      ],
      "source": [
        "#Logistic Regression model - 2 method\n",
        "#Considering two variables\n",
        "model1 = smf.glm(formula='''STATUS ~ SIZE+FREQUENCY''', data=df, family=sm.families.Binomial())\n",
        "result = model1.fit()\n",
        "print(result.summary())"
      ]
    },
    {
      "cell_type": "code",
      "execution_count": null,
      "id": "80afe004",
      "metadata": {
        "id": "80afe004",
        "outputId": "7275e359-74fc-4f92-de4d-b704e7174cc6"
      },
      "outputs": [
        {
          "name": "stdout",
          "output_type": "stream",
          "text": [
            "                 Generalized Linear Model Regression Results                  \n",
            "==============================================================================\n",
            "Dep. Variable:                 STATUS   No. Observations:                17442\n",
            "Model:                            GLM   Df Residuals:                    17437\n",
            "Model Family:                Binomial   Df Model:                            4\n",
            "Link Function:                  Logit   Scale:                          1.0000\n",
            "Method:                          IRLS   Log-Likelihood:                -4755.8\n",
            "Date:                Sat, 16 Jul 2022   Deviance:                       9511.5\n",
            "Time:                        09:08:27   Pearson chi2:                 1.21e+04\n",
            "No. Iterations:                     7   Pseudo R-squ. (CS):             0.5687\n",
            "Covariance Type:            nonrobust                                         \n",
            "==============================================================================\n",
            "                 coef    std err          z      P>|z|      [0.025      0.975]\n",
            "------------------------------------------------------------------------------\n",
            "Intercept      0.9990      0.137      7.314      0.000       0.731       1.267\n",
            "SIZE          -0.3406      0.016    -21.220      0.000      -0.372      -0.309\n",
            "FREQUENCY     -0.0303      0.001    -21.505      0.000      -0.033      -0.028\n",
            "DISTANCE      -0.0202      0.001    -28.423      0.000      -0.022      -0.019\n",
            "AIRFLOW        0.4779      0.010     49.545      0.000       0.459       0.497\n",
            "==============================================================================\n"
          ]
        }
      ],
      "source": [
        "#considering four variables\n",
        "model2 = smf.glm(formula='''STATUS ~ SIZE+FREQUENCY+DISTANCE+AIRFLOW''', data=df, family=sm.families.Binomial())\n",
        "result = model2.fit()\n",
        "print(result.summary())"
      ]
    },
    {
      "cell_type": "code",
      "execution_count": null,
      "id": "54bada27",
      "metadata": {
        "id": "54bada27",
        "outputId": "f6e82499-38b5-4421-f7eb-255c89a252de"
      },
      "outputs": [
        {
          "name": "stdout",
          "output_type": "stream",
          "text": [
            "                 Generalized Linear Model Regression Results                  \n",
            "==============================================================================\n",
            "Dep. Variable:                 STATUS   No. Observations:                17442\n",
            "Model:                            GLM   Df Residuals:                    17436\n",
            "Model Family:                Binomial   Df Model:                            5\n",
            "Link Function:                  Logit   Scale:                          1.0000\n",
            "Method:                          IRLS   Log-Likelihood:                -4733.7\n",
            "Date:                Sat, 16 Jul 2022   Deviance:                       9467.5\n",
            "Time:                        09:08:28   Pearson chi2:                 1.21e+04\n",
            "No. Iterations:                     7   Pseudo R-squ. (CS):             0.5698\n",
            "Covariance Type:            nonrobust                                         \n",
            "==============================================================================\n",
            "                 coef    std err          z      P>|z|      [0.025      0.975]\n",
            "------------------------------------------------------------------------------\n",
            "Intercept     -1.8861      0.455     -4.147      0.000      -2.777      -0.995\n",
            "SIZE          -0.3420      0.016    -21.271      0.000      -0.374      -0.310\n",
            "FREQUENCY     -0.0427      0.002    -18.074      0.000      -0.047      -0.038\n",
            "DISTANCE      -0.0222      0.001    -28.417      0.000      -0.024      -0.021\n",
            "AIRFLOW        0.4279      0.012     35.784      0.000       0.404       0.451\n",
            "DESIBEL        0.0394      0.006      6.640      0.000       0.028       0.051\n",
            "==============================================================================\n"
          ]
        }
      ],
      "source": [
        "#Considering all variables\n",
        "model3 = smf.glm(formula='''STATUS ~ SIZE+FREQUENCY+DISTANCE+AIRFLOW+DESIBEL''', data=df, family=sm.families.Binomial())\n",
        "result = model3.fit()\n",
        "print(result.summary())"
      ]
    },
    {
      "cell_type": "code",
      "execution_count": null,
      "id": "3877cb1e",
      "metadata": {
        "id": "3877cb1e"
      },
      "outputs": [],
      "source": [
        "#COLUMN DESIBEL IS NOT AFFECTING MUCH HENCE CAN BE DROPPED."
      ]
    },
    {
      "cell_type": "code",
      "execution_count": null,
      "id": "ca6dc7f9",
      "metadata": {
        "id": "ca6dc7f9",
        "outputId": "d4992fae-db12-4283-f864-c478c2747d77"
      },
      "outputs": [
        {
          "name": "stdout",
          "output_type": "stream",
          "text": [
            "                 Generalized Linear Model Regression Results                  \n",
            "==============================================================================\n",
            "Dep. Variable:                 STATUS   No. Observations:                17442\n",
            "Model:                            GLM   Df Residuals:                    17433\n",
            "Model Family:                Binomial   Df Model:                            8\n",
            "Link Function:                  Logit   Scale:                          1.0000\n",
            "Method:                          IRLS   Log-Likelihood:                -4027.9\n",
            "Date:                Sat, 16 Jul 2022   Deviance:                       8055.7\n",
            "Time:                        09:09:32   Pearson chi2:                 1.26e+04\n",
            "No. Iterations:                     7   Pseudo R-squ. (CS):             0.6032\n",
            "Covariance Type:            nonrobust                                         \n",
            "=======================================================================================\n",
            "                          coef    std err          z      P>|z|      [0.025      0.975]\n",
            "---------------------------------------------------------------------------------------\n",
            "Intercept              -0.3843      0.497     -0.774      0.439      -1.358       0.589\n",
            "C(FUEL)[T.kerosene]    -1.2679      0.078    -16.290      0.000      -1.421      -1.115\n",
            "C(FUEL)[T.lpg]          3.5462      0.138     25.693      0.000       3.276       3.817\n",
            "C(FUEL)[T.thinner]     -0.7228      0.075     -9.597      0.000      -0.870      -0.575\n",
            "SIZE                   -0.9007      0.026    -34.392      0.000      -0.952      -0.849\n",
            "FREQUENCY              -0.0501      0.003    -19.252      0.000      -0.055      -0.045\n",
            "DISTANCE               -0.0263      0.001    -30.103      0.000      -0.028      -0.025\n",
            "AIRFLOW                 0.5115      0.014     37.356      0.000       0.485       0.538\n",
            "DESIBEL                 0.0462      0.006      7.148      0.000       0.034       0.059\n",
            "=======================================================================================\n"
          ]
        }
      ],
      "source": [
        "#model considering categorical variable also.\n",
        "model4 = smf.glm(formula='''STATUS ~ C(FUEL)+SIZE+FREQUENCY+DISTANCE+AIRFLOW+DESIBEL''', data=df, family=sm.families.Binomial())\n",
        "result = model4.fit()\n",
        "print(result.summary())"
      ]
    },
    {
      "cell_type": "code",
      "execution_count": null,
      "id": "902fe85c",
      "metadata": {
        "id": "902fe85c",
        "outputId": "5c7cec7f-4d21-4ac0-eaa1-23406d6ea9f2"
      },
      "outputs": [
        {
          "name": "stdout",
          "output_type": "stream",
          "text": [
            "               df       sum_sq   mean_sq          F        PR(>F)\n",
            "FUEL          3.0    28.600155  9.533385  38.377236  1.038694e-24\n",
            "Residual  17438.0  4331.817057  0.248412        NaN           NaN\n"
          ]
        }
      ],
      "source": [
        "#ANOVA for only one categorical variable\n",
        "\n",
        "mod = ols('STATUS ~ FUEL', data = df).fit()\n",
        "aov_table = sm.stats.anova_lm(mod, type = 2)\n",
        "print(aov_table)"
      ]
    },
    {
      "cell_type": "code",
      "execution_count": null,
      "id": "ab5f1edc",
      "metadata": {
        "id": "ab5f1edc",
        "outputId": "71d8d1f4-fdb2-4527-e133-8fa77942335f"
      },
      "outputs": [
        {
          "data": {
            "text/plain": [
              "0    5130\n",
              "3    5130\n",
              "1    5130\n",
              "2    2052\n",
              "Name: FUEL, dtype: int64"
            ]
          },
          "execution_count": 33,
          "metadata": {},
          "output_type": "execute_result"
        }
      ],
      "source": [
        "# label encoding the data \n",
        "from sklearn.preprocessing import LabelEncoder \n",
        "le = LabelEncoder() \n",
        "  \n",
        "df['FUEL']= le.fit_transform(df['FUEL']) \n",
        "df.FUEL.value_counts()"
      ]
    },
    {
      "cell_type": "code",
      "execution_count": null,
      "id": "5c964f83",
      "metadata": {
        "id": "5c964f83",
        "outputId": "4e97a965-20d7-40e3-9676-e784ba4abde4"
      },
      "outputs": [
        {
          "name": "stdout",
          "output_type": "stream",
          "text": [
            "<class 'pandas.core.frame.DataFrame'>\n",
            "RangeIndex: 17442 entries, 0 to 17441\n",
            "Data columns (total 7 columns):\n",
            " #   Column     Non-Null Count  Dtype  \n",
            "---  ------     --------------  -----  \n",
            " 0   SIZE       17442 non-null  int64  \n",
            " 1   FUEL       17442 non-null  int32  \n",
            " 2   DISTANCE   17442 non-null  int64  \n",
            " 3   DESIBEL    17442 non-null  int64  \n",
            " 4   AIRFLOW    17442 non-null  float64\n",
            " 5   FREQUENCY  17442 non-null  int64  \n",
            " 6   STATUS     17442 non-null  int64  \n",
            "dtypes: float64(1), int32(1), int64(5)\n",
            "memory usage: 885.9 KB\n"
          ]
        }
      ],
      "source": [
        "df.info()"
      ]
    },
    {
      "cell_type": "code",
      "execution_count": null,
      "id": "f428b7a8",
      "metadata": {
        "id": "f428b7a8",
        "outputId": "e5b7ccbd-3cbd-46d9-a69d-e1658a5b59cf"
      },
      "outputs": [
        {
          "data": {
            "text/plain": [
              "array([-1.52105176])"
            ]
          },
          "execution_count": 36,
          "metadata": {},
          "output_type": "execute_result"
        }
      ],
      "source": [
        "from sklearn.metrics import classification_report, confusion_matrix\n",
        "x = df.iloc[:,[0,1,2,3,4,5]]\n",
        "y = df.iloc[:,6]  \n",
        "\n",
        "#solver liblinear\n",
        "from sklearn.linear_model import LogisticRegression\n",
        "model5 = LogisticRegression(solver='liblinear', random_state=0)\n",
        "model5.fit(x, y)\n",
        "model5.intercept_\n",
        "# "
      ]
    },
    {
      "cell_type": "code",
      "execution_count": null,
      "id": "3e01866a",
      "metadata": {
        "id": "3e01866a",
        "outputId": "5dbac140-8f16-41d5-b9aa-4a22cfb3f5bf"
      },
      "outputs": [
        {
          "data": {
            "text/plain": [
              "array([[-0.33969207, -0.04413379, -0.02214841,  0.0354891 ,  0.43172251,\n",
              "        -0.04159404]])"
            ]
          },
          "execution_count": 37,
          "metadata": {},
          "output_type": "execute_result"
        }
      ],
      "source": [
        "model5.coef_"
      ]
    },
    {
      "cell_type": "code",
      "execution_count": null,
      "id": "eab92f8e",
      "metadata": {
        "id": "eab92f8e",
        "outputId": "e52c4d3c-5fea-41b2-d525-4f8bab1edc57"
      },
      "outputs": [
        {
          "data": {
            "text/plain": [
              "array([0, 0, 0, ..., 0, 0, 0], dtype=int64)"
            ]
          },
          "execution_count": 40,
          "metadata": {},
          "output_type": "execute_result"
        }
      ],
      "source": [
        "#Predictions\n",
        "y_pred = model5.predict(x)\n",
        "y_pred\n"
      ]
    },
    {
      "cell_type": "code",
      "execution_count": null,
      "id": "28ddcd9a",
      "metadata": {
        "id": "28ddcd9a",
        "outputId": "81cb2868-59f7-4298-a1af-6009b013096f"
      },
      "outputs": [
        {
          "name": "stdout",
          "output_type": "stream",
          "text": [
            "[[7816  943]\n",
            " [1222 7461]]\n"
          ]
        }
      ],
      "source": [
        "#Confusion matrix\n",
        "from sklearn import metrics\n",
        "cm = metrics.confusion_matrix(y, y_pred)\n",
        "print(cm)"
      ]
    },
    {
      "cell_type": "code",
      "execution_count": null,
      "id": "fedd435a",
      "metadata": {
        "id": "fedd435a",
        "outputId": "ca8198a0-fb62-41ed-a8d7-5bba77c79bee"
      },
      "outputs": [
        {
          "data": {
            "text/plain": [
              "0.8758743263387226"
            ]
          },
          "execution_count": 42,
          "metadata": {},
          "output_type": "execute_result"
        }
      ],
      "source": [
        "#Accuracy Score - correct predictions / total number of data points\n",
        "model5.score(x,y)"
      ]
    },
    {
      "cell_type": "code",
      "execution_count": null,
      "id": "9fdc57d1",
      "metadata": {
        "id": "9fdc57d1",
        "outputId": "db86de81-3642-466c-981d-c3483f063acd"
      },
      "outputs": [
        {
          "name": "stdout",
          "output_type": "stream",
          "text": [
            "0.9548251891340354\n"
          ]
        }
      ],
      "source": [
        "from sklearn.metrics import roc_curve, auc, roc_auc_score\n",
        "y_pred_prob = model5.predict_proba(x)\n",
        "fpr, tpr, thresholds =roc_curve(df[\"STATUS\"], y_pred_prob[:,1])\n",
        "roc_auc = auc(fpr, tpr) \n",
        "print(roc_auc)"
      ]
    },
    {
      "cell_type": "code",
      "execution_count": null,
      "id": "ca364e91",
      "metadata": {
        "id": "ca364e91",
        "outputId": "10a8994c-c229-4531-9ed3-bac5836180ea"
      },
      "outputs": [
        {
          "data": {
            "image/png": "[encoded data removed]",
            "text/plain": [
              "<Figure size 432x288 with 1 Axes>"
            ]
          },
          "metadata": {
            "needs_background": "light"
          },
          "output_type": "display_data"
        }
      ],
      "source": [
        "#ROC Curve\n",
        "plt.title('ROC Curve for h1n1 Vaccine Classifier')\n",
        "plt.xlabel('False Positive Rate (1-Specificity)')\n",
        "plt.ylabel('True Positive Rate (Sensitivity)')\n",
        "plt.plot([0, 1], [0, 1],'r--')\n",
        "plt.xlim([0, 1])\n",
        "plt.ylim([0, 1])\n",
        "plt.plot(fpr, tpr, label = 'AUC =' +str(roc_auc))\n",
        "plt.legend(loc=4) #Location of label\n",
        "plt.show()"
      ]
    },
    {
      "cell_type": "code",
      "execution_count": null,
      "id": "06ff5845",
      "metadata": {
        "id": "06ff5845",
        "outputId": "a16922cf-5a64-44a7-d41a-99f3d34781ac"
      },
      "outputs": [
        {
          "name": "stdout",
          "output_type": "stream",
          "text": [
            "              precision    recall  f1-score   support\n",
            "\n",
            "           0       0.86      0.89      0.88      8759\n",
            "           1       0.89      0.86      0.87      8683\n",
            "\n",
            "    accuracy                           0.88     17442\n",
            "   macro avg       0.88      0.88      0.88     17442\n",
            "weighted avg       0.88      0.88      0.88     17442\n",
            "\n"
          ]
        }
      ],
      "source": [
        "#Classification report\n",
        "from sklearn.metrics import classification_report\n",
        "print(classification_report(y, y_pred))"
      ]
    },
    {
      "cell_type": "code",
      "execution_count": null,
      "id": "3240bb43",
      "metadata": {
        "id": "3240bb43",
        "outputId": "5558dae6-33d6-434f-f0a6-9f78cb4370f3"
      },
      "outputs": [
        {
          "data": {
            "text/plain": [
              "array([-1.83683547])"
            ]
          },
          "execution_count": 46,
          "metadata": {},
          "output_type": "execute_result"
        }
      ],
      "source": [
        "#solver newton-cg\n",
        "model6 = LogisticRegression(solver='newton-cg', random_state=0)\n",
        "model6.fit(x, y)\n",
        "model6.intercept_\n"
      ]
    },
    {
      "cell_type": "code",
      "execution_count": null,
      "id": "416b8821",
      "metadata": {
        "id": "416b8821",
        "outputId": "f1bf9cac-aae5-4525-91c1-85de33e839cb"
      },
      "outputs": [
        {
          "data": {
            "text/plain": [
              "array([[-0.33876105, -0.04327786, -0.02223867,  0.03940434,  0.4280524 ,\n",
              "        -0.04270501]])"
            ]
          },
          "execution_count": 47,
          "metadata": {},
          "output_type": "execute_result"
        }
      ],
      "source": [
        "model6.coef_"
      ]
    },
    {
      "cell_type": "code",
      "execution_count": null,
      "id": "e857e03b",
      "metadata": {
        "id": "e857e03b"
      },
      "outputs": [],
      "source": [
        "#Predictions\n",
        "y_pred = model6.predict(x)"
      ]
    },
    {
      "cell_type": "code",
      "execution_count": null,
      "id": "07ac060e",
      "metadata": {
        "id": "07ac060e",
        "outputId": "26b04935-8131-430d-862c-939700d868ab"
      },
      "outputs": [
        {
          "name": "stdout",
          "output_type": "stream",
          "text": [
            "[[7814  945]\n",
            " [1220 7463]]\n"
          ]
        }
      ],
      "source": [
        "#Confusion matrix\n",
        "\n",
        "cm = metrics.confusion_matrix(y, y_pred)\n",
        "print(cm)"
      ]
    },
    {
      "cell_type": "code",
      "execution_count": null,
      "id": "efddbb3a",
      "metadata": {
        "id": "efddbb3a",
        "outputId": "bfd3b563-090a-4482-cfff-ec540a6ca86c"
      },
      "outputs": [
        {
          "data": {
            "text/plain": [
              "0.8758743263387226"
            ]
          },
          "execution_count": 51,
          "metadata": {},
          "output_type": "execute_result"
        }
      ],
      "source": [
        "#Accuracy Score - correct predictions / total number of data points\n",
        "model6.score(x,y)"
      ]
    },
    {
      "cell_type": "code",
      "execution_count": null,
      "id": "bdcaa8c5",
      "metadata": {
        "id": "bdcaa8c5",
        "outputId": "3c043ec0-a7fc-4dfa-e069-5076f14f6be2"
      },
      "outputs": [
        {
          "name": "stdout",
          "output_type": "stream",
          "text": [
            "0.9548511705378454\n"
          ]
        }
      ],
      "source": [
        "y_pred_prob = model6.predict_proba(x)\n",
        "\n",
        "fpr, tpr, thresholds =roc_curve(df[\"STATUS\"], y_pred_prob[:,1])\n",
        "roc_auc = auc(fpr, tpr) \n",
        "print(roc_auc)"
      ]
    },
    {
      "cell_type": "code",
      "execution_count": null,
      "id": "e745c62f",
      "metadata": {
        "id": "e745c62f",
        "outputId": "944dc690-3c33-4c7d-9245-f8d342dce804"
      },
      "outputs": [
        {
          "name": "stdout",
          "output_type": "stream",
          "text": [
            "              precision    recall  f1-score   support\n",
            "\n",
            "           0       0.86      0.89      0.88      8759\n",
            "           1       0.89      0.86      0.87      8683\n",
            "\n",
            "    accuracy                           0.88     17442\n",
            "   macro avg       0.88      0.88      0.88     17442\n",
            "weighted avg       0.88      0.88      0.88     17442\n",
            "\n"
          ]
        }
      ],
      "source": [
        "#Classification report\n",
        "\n",
        "print(classification_report(y, y_pred))"
      ]
    },
    {
      "cell_type": "code",
      "execution_count": null,
      "id": "1c73af75",
      "metadata": {
        "id": "1c73af75",
        "outputId": "58a815a8-fbd9-4ce4-f460-62c58467dd1f"
      },
      "outputs": [
        {
          "data": {
            "text/plain": [
              "array([[-0.33876373, -0.04324953, -0.0222394 ,  0.03939629,  0.42806224,\n",
              "        -0.0427059 ]])"
            ]
          },
          "execution_count": 54,
          "metadata": {},
          "output_type": "execute_result"
        }
      ],
      "source": [
        "#solver lbfgs\n",
        "model7 = LogisticRegression(solver='lbfgs', random_state=0)\n",
        "model7.fit(x, y)\n",
        "model7.intercept_\n",
        "model7.coef_"
      ]
    },
    {
      "cell_type": "code",
      "execution_count": null,
      "id": "c3010472",
      "metadata": {
        "id": "c3010472",
        "outputId": "e0170a72-2cd1-4a05-cfc4-02469e3735ee"
      },
      "outputs": [
        {
          "name": "stdout",
          "output_type": "stream",
          "text": [
            "[[7814  945]\n",
            " [1220 7463]]\n"
          ]
        }
      ],
      "source": [
        "cm = metrics.confusion_matrix(y, y_pred)\n",
        "print(cm)"
      ]
    },
    {
      "cell_type": "code",
      "execution_count": null,
      "id": "8e9e3de5",
      "metadata": {
        "id": "8e9e3de5",
        "outputId": "e3474212-7afb-46e0-f460-aa8e780666f2"
      },
      "outputs": [
        {
          "data": {
            "text/plain": [
              "0.8758743263387226"
            ]
          },
          "execution_count": 56,
          "metadata": {},
          "output_type": "execute_result"
        }
      ],
      "source": [
        "#Accuracy Score - correct predictions / total number of data points\n",
        "model7.score(x,y)"
      ]
    },
    {
      "cell_type": "code",
      "execution_count": null,
      "id": "fe9635aa",
      "metadata": {
        "id": "fe9635aa",
        "outputId": "2054f343-7900-43c9-a208-fc15cf9e4e2b"
      },
      "outputs": [
        {
          "name": "stdout",
          "output_type": "stream",
          "text": [
            "              precision    recall  f1-score   support\n",
            "\n",
            "           0       0.86      0.89      0.88      8759\n",
            "           1       0.89      0.86      0.87      8683\n",
            "\n",
            "    accuracy                           0.88     17442\n",
            "   macro avg       0.88      0.88      0.88     17442\n",
            "weighted avg       0.88      0.88      0.88     17442\n",
            "\n"
          ]
        }
      ],
      "source": [
        "print(classification_report(y, y_pred))"
      ]
    },
    {
      "cell_type": "code",
      "execution_count": null,
      "id": "6414d7a5",
      "metadata": {
        "id": "6414d7a5",
        "outputId": "47194483-404a-4959-8f1a-9e04c62338a0"
      },
      "outputs": [
        {
          "name": "stdout",
          "output_type": "stream",
          "text": [
            "                 Generalized Linear Model Regression Results                  \n",
            "==============================================================================\n",
            "Dep. Variable:                 STATUS   No. Observations:                17442\n",
            "Model:                            GLM   Df Residuals:                    17433\n",
            "Model Family:                Binomial   Df Model:                            8\n",
            "Link Function:                  Logit   Scale:                          1.0000\n",
            "Method:                          IRLS   Log-Likelihood:                -4027.9\n",
            "Date:                Sat, 16 Jul 2022   Deviance:                       8055.7\n",
            "Time:                        09:28:14   Pearson chi2:                 1.26e+04\n",
            "No. Iterations:                     7   Pseudo R-squ. (CS):             0.6032\n",
            "Covariance Type:            nonrobust                                         \n",
            "================================================================================\n",
            "                   coef    std err          z      P>|z|      [0.025      0.975]\n",
            "--------------------------------------------------------------------------------\n",
            "Intercept       -0.3843      0.497     -0.774      0.439      -1.358       0.589\n",
            "C(FUEL)[T.1]    -1.2679      0.078    -16.290      0.000      -1.421      -1.115\n",
            "C(FUEL)[T.2]     3.5462      0.138     25.693      0.000       3.276       3.817\n",
            "C(FUEL)[T.3]    -0.7228      0.075     -9.597      0.000      -0.870      -0.575\n",
            "SIZE            -0.9007      0.026    -34.392      0.000      -0.952      -0.849\n",
            "FREQUENCY       -0.0501      0.003    -19.252      0.000      -0.055      -0.045\n",
            "DISTANCE        -0.0263      0.001    -30.103      0.000      -0.028      -0.025\n",
            "AIRFLOW          0.5115      0.014     37.356      0.000       0.485       0.538\n",
            "DESIBEL          0.0462      0.006      7.148      0.000       0.034       0.059\n",
            "================================================================================\n"
          ]
        }
      ],
      "source": [
        "#SMF.GLS after label encoding\n",
        "model8 = smf.glm(formula='''STATUS ~ C(FUEL)+SIZE+FREQUENCY+DISTANCE+AIRFLOW+DESIBEL''', data=df, family=sm.families.Binomial())\n",
        "result = model8.fit()\n",
        "print(result.summary())"
      ]
    },
    {
      "cell_type": "code",
      "execution_count": null,
      "id": "46e4cd92",
      "metadata": {
        "id": "46e4cd92",
        "outputId": "44d060ea-da61-43ec-ff2e-f8f75681756a"
      },
      "outputs": [
        {
          "data": {
            "text/plain": [
              "[0,\n",
              " 0,\n",
              " 1,\n",
              " 1,\n",
              " 1,\n",
              " 1,\n",
              " 1,\n",
              " 1,\n",
              " 1,\n",
              " 1,\n",
              " 1,\n",
              " 1,\n",
              " 1,\n",
              " 1,\n",
              " 1,\n",
              " 1,\n",
              " 1,\n",
              " 1,\n",
              " 1,\n",
              " 1,\n",
              " 1,\n",
              " 1,\n",
              " 1,\n",
              " 1,\n",
              " 1,\n",
              " 1,\n",
              " 1,\n",
              " 1,\n",
              " 1,\n",
              " 1,\n",
              " 1,\n",
              " 1,\n",
              " 1,\n",
              " 1,\n",
              " 1,\n",
              " 1,\n",
              " 1,\n",
              " 1,\n",
              " 1,\n",
              " 1,\n",
              " 1,\n",
              " 1,\n",
              " 1,\n",
              " 1,\n",
              " 1,\n",
              " 1,\n",
              " 1,\n",
              " 1,\n",
              " 1,\n",
              " 1,\n",
              " 1,\n",
              " 1,\n",
              " 1,\n",
              " 1,\n",
              " 0,\n",
              " 0,\n",
              " 0,\n",
              " 1,\n",
              " 1,\n",
              " 1,\n",
              " 1,\n",
              " 1,\n",
              " 1,\n",
              " 1,\n",
              " 1,\n",
              " 1,\n",
              " 1,\n",
              " 1,\n",
              " 1,\n",
              " 1,\n",
              " 1,\n",
              " 1,\n",
              " 1,\n",
              " 1,\n",
              " 1,\n",
              " 1,\n",
              " 1,\n",
              " 1,\n",
              " 1,\n",
              " 1,\n",
              " 1,\n",
              " 1,\n",
              " 1,\n",
              " 1,\n",
              " 1,\n",
              " 1,\n",
              " 1,\n",
              " 1,\n",
              " 1,\n",
              " 1,\n",
              " 1,\n",
              " 1,\n",
              " 1,\n",
              " 1,\n",
              " 1,\n",
              " 1,\n",
              " 1,\n",
              " 1,\n",
              " 1,\n",
              " 1,\n",
              " 1,\n",
              " 1,\n",
              " 1,\n",
              " 1,\n",
              " 1,\n",
              " 1,\n",
              " 1,\n",
              " 1,\n",
              " 0,\n",
              " 0,\n",
              " 0,\n",
              " 0,\n",
              " 1,\n",
              " 1,\n",
              " 1,\n",
              " 1,\n",
              " 1,\n",
              " 1,\n",
              " 1,\n",
              " 1,\n",
              " 1,\n",
              " 1,\n",
              " 1,\n",
              " 1,\n",
              " 1,\n",
              " 1,\n",
              " 1,\n",
              " 1,\n",
              " 1,\n",
              " 1,\n",
              " 1,\n",
              " 1,\n",
              " 1,\n",
              " 1,\n",
              " 1,\n",
              " 1,\n",
              " 1,\n",
              " 1,\n",
              " 1,\n",
              " 1,\n",
              " 1,\n",
              " 1,\n",
              " 1,\n",
              " 1,\n",
              " 1,\n",
              " 1,\n",
              " 1,\n",
              " 1,\n",
              " 1,\n",
              " 1,\n",
              " 1,\n",
              " 1,\n",
              " 1,\n",
              " 1,\n",
              " 1,\n",
              " 1,\n",
              " 1,\n",
              " 1,\n",
              " 1,\n",
              " 1,\n",
              " 1,\n",
              " 1,\n",
              " 0,\n",
              " 0,\n",
              " 0,\n",
              " 0,\n",
              " 0,\n",
              " 1,\n",
              " 1,\n",
              " 1,\n",
              " 1,\n",
              " 1,\n",
              " 1,\n",
              " 1,\n",
              " 1,\n",
              " 1,\n",
              " 1,\n",
              " 1,\n",
              " 1,\n",
              " 1,\n",
              " 1,\n",
              " 1,\n",
              " 1,\n",
              " 1,\n",
              " 1,\n",
              " 1,\n",
              " 1,\n",
              " 1,\n",
              " 1,\n",
              " 1,\n",
              " 1,\n",
              " 1,\n",
              " 1,\n",
              " 1,\n",
              " 1,\n",
              " 1,\n",
              " 1,\n",
              " 1,\n",
              " 1,\n",
              " 1,\n",
              " 1,\n",
              " 1,\n",
              " 1,\n",
              " 1,\n",
              " 1,\n",
              " 1,\n",
              " 1,\n",
              " 1,\n",
              " 1,\n",
              " 1,\n",
              " 1,\n",
              " 1,\n",
              " 1,\n",
              " 1,\n",
              " 1,\n",
              " 1,\n",
              " 0,\n",
              " 0,\n",
              " 0,\n",
              " 0,\n",
              " 0,\n",
              " 1,\n",
              " 1,\n",
              " 1,\n",
              " 1,\n",
              " 1,\n",
              " 1,\n",
              " 1,\n",
              " 1,\n",
              " 1,\n",
              " 1,\n",
              " 1,\n",
              " 1,\n",
              " 1,\n",
              " 1,\n",
              " 1,\n",
              " 1,\n",
              " 1,\n",
              " 1,\n",
              " 1,\n",
              " 1,\n",
              " 1,\n",
              " 1,\n",
              " 1,\n",
              " 1,\n",
              " 1,\n",
              " 1,\n",
              " 1,\n",
              " 1,\n",
              " 1,\n",
              " 1,\n",
              " 1,\n",
              " 1,\n",
              " 1,\n",
              " 1,\n",
              " 1,\n",
              " 1,\n",
              " 1,\n",
              " 1,\n",
              " 1,\n",
              " 1,\n",
              " 1,\n",
              " 1,\n",
              " 1,\n",
              " 1,\n",
              " 1,\n",
              " 1,\n",
              " 1,\n",
              " 1,\n",
              " 1,\n",
              " 0,\n",
              " 0,\n",
              " 0,\n",
              " 0,\n",
              " 0,\n",
              " 1,\n",
              " 1,\n",
              " 1,\n",
              " 1,\n",
              " 1,\n",
              " 1,\n",
              " 1,\n",
              " 1,\n",
              " 1,\n",
              " 1,\n",
              " 1,\n",
              " 1,\n",
              " 1,\n",
              " 1,\n",
              " 1,\n",
              " 1,\n",
              " 1,\n",
              " 1,\n",
              " 1,\n",
              " 1,\n",
              " 1,\n",
              " 1,\n",
              " 1,\n",
              " 1,\n",
              " 1,\n",
              " 1,\n",
              " 1,\n",
              " 1,\n",
              " 1,\n",
              " 1,\n",
              " 1,\n",
              " 1,\n",
              " 1,\n",
              " 1,\n",
              " 1,\n",
              " 1,\n",
              " 1,\n",
              " 1,\n",
              " 1,\n",
              " 1,\n",
              " 1,\n",
              " 1,\n",
              " 1,\n",
              " 1,\n",
              " 1,\n",
              " 1,\n",
              " 1,\n",
              " 1,\n",
              " 1,\n",
              " 0,\n",
              " 0,\n",
              " 0,\n",
              " 0,\n",
              " 0,\n",
              " 0,\n",
              " 0,\n",
              " 1,\n",
              " 1,\n",
              " 1,\n",
              " 1,\n",
              " 1,\n",
              " 1,\n",
              " 1,\n",
              " 1,\n",
              " 1,\n",
              " 1,\n",
              " 1,\n",
              " 1,\n",
              " 1,\n",
              " 1,\n",
              " 1,\n",
              " 1,\n",
              " 1,\n",
              " 1,\n",
              " 1,\n",
              " 1,\n",
              " 1,\n",
              " 1,\n",
              " 1,\n",
              " 1,\n",
              " 1,\n",
              " 1,\n",
              " 1,\n",
              " 1,\n",
              " 1,\n",
              " 1,\n",
              " 1,\n",
              " 1,\n",
              " 1,\n",
              " 1,\n",
              " 1,\n",
              " 1,\n",
              " 1,\n",
              " 1,\n",
              " 1,\n",
              " 1,\n",
              " 1,\n",
              " 1,\n",
              " 1,\n",
              " 1,\n",
              " 1,\n",
              " 1,\n",
              " 1,\n",
              " 0,\n",
              " 0,\n",
              " 0,\n",
              " 0,\n",
              " 0,\n",
              " 0,\n",
              " 0,\n",
              " 1,\n",
              " 1,\n",
              " 1,\n",
              " 1,\n",
              " 1,\n",
              " 1,\n",
              " 1,\n",
              " 1,\n",
              " 1,\n",
              " 1,\n",
              " 1,\n",
              " 1,\n",
              " 1,\n",
              " 1,\n",
              " 1,\n",
              " 1,\n",
              " 1,\n",
              " 1,\n",
              " 1,\n",
              " 1,\n",
              " 1,\n",
              " 1,\n",
              " 1,\n",
              " 1,\n",
              " 1,\n",
              " 1,\n",
              " 1,\n",
              " 1,\n",
              " 1,\n",
              " 1,\n",
              " 1,\n",
              " 1,\n",
              " 1,\n",
              " 1,\n",
              " 1,\n",
              " 1,\n",
              " 1,\n",
              " 1,\n",
              " 1,\n",
              " 1,\n",
              " 1,\n",
              " 1,\n",
              " 1,\n",
              " 1,\n",
              " 1,\n",
              " 1,\n",
              " 1,\n",
              " 0,\n",
              " 0,\n",
              " 0,\n",
              " 0,\n",
              " 0,\n",
              " 0,\n",
              " 0,\n",
              " 1,\n",
              " 1,\n",
              " 1,\n",
              " 1,\n",
              " 1,\n",
              " 1,\n",
              " 1,\n",
              " 1,\n",
              " 1,\n",
              " 1,\n",
              " 1,\n",
              " 1,\n",
              " 1,\n",
              " 1,\n",
              " 1,\n",
              " 1,\n",
              " 1,\n",
              " 1,\n",
              " 1,\n",
              " 1,\n",
              " 1,\n",
              " 1,\n",
              " 1,\n",
              " 1,\n",
              " 1,\n",
              " 1,\n",
              " 1,\n",
              " 1,\n",
              " 1,\n",
              " 1,\n",
              " 1,\n",
              " 1,\n",
              " 1,\n",
              " 1,\n",
              " 1,\n",
              " 1,\n",
              " 1,\n",
              " 1,\n",
              " 1,\n",
              " 1,\n",
              " 1,\n",
              " 1,\n",
              " 1,\n",
              " 1,\n",
              " 1,\n",
              " 1,\n",
              " 0,\n",
              " 0,\n",
              " 0,\n",
              " 0,\n",
              " 0,\n",
              " 0,\n",
              " 0,\n",
              " 0,\n",
              " 0,\n",
              " 1,\n",
              " 1,\n",
              " 1,\n",
              " 1,\n",
              " 1,\n",
              " 1,\n",
              " 1,\n",
              " 1,\n",
              " 1,\n",
              " 1,\n",
              " 1,\n",
              " 1,\n",
              " 1,\n",
              " 1,\n",
              " 1,\n",
              " 1,\n",
              " 1,\n",
              " 1,\n",
              " 1,\n",
              " 1,\n",
              " 1,\n",
              " 1,\n",
              " 1,\n",
              " 1,\n",
              " 1,\n",
              " 1,\n",
              " 1,\n",
              " 1,\n",
              " 1,\n",
              " 1,\n",
              " 1,\n",
              " 1,\n",
              " 1,\n",
              " 1,\n",
              " 1,\n",
              " 1,\n",
              " 1,\n",
              " 1,\n",
              " 1,\n",
              " 1,\n",
              " 1,\n",
              " 1,\n",
              " 1,\n",
              " 1,\n",
              " 1,\n",
              " 0,\n",
              " 0,\n",
              " 0,\n",
              " 0,\n",
              " 0,\n",
              " 0,\n",
              " 0,\n",
              " 0,\n",
              " 0,\n",
              " 0,\n",
              " 1,\n",
              " 1,\n",
              " 1,\n",
              " 1,\n",
              " 1,\n",
              " 1,\n",
              " 1,\n",
              " 1,\n",
              " 1,\n",
              " 1,\n",
              " 1,\n",
              " 1,\n",
              " 1,\n",
              " 1,\n",
              " 1,\n",
              " 1,\n",
              " 1,\n",
              " 1,\n",
              " 1,\n",
              " 1,\n",
              " 1,\n",
              " 1,\n",
              " 1,\n",
              " 1,\n",
              " 1,\n",
              " 1,\n",
              " 1,\n",
              " 1,\n",
              " 1,\n",
              " 1,\n",
              " 1,\n",
              " 1,\n",
              " 1,\n",
              " 1,\n",
              " 1,\n",
              " 1,\n",
              " 1,\n",
              " 1,\n",
              " 1,\n",
              " 1,\n",
              " 1,\n",
              " 1,\n",
              " 1,\n",
              " 1,\n",
              " 0,\n",
              " 0,\n",
              " 0,\n",
              " 0,\n",
              " 0,\n",
              " 0,\n",
              " 0,\n",
              " 0,\n",
              " 0,\n",
              " 0,\n",
              " 1,\n",
              " 0,\n",
              " 1,\n",
              " 1,\n",
              " 1,\n",
              " 1,\n",
              " 1,\n",
              " 1,\n",
              " 1,\n",
              " 1,\n",
              " 1,\n",
              " 1,\n",
              " 1,\n",
              " 1,\n",
              " 1,\n",
              " 1,\n",
              " 1,\n",
              " 1,\n",
              " 1,\n",
              " 1,\n",
              " 1,\n",
              " 1,\n",
              " 1,\n",
              " 1,\n",
              " 1,\n",
              " 1,\n",
              " 1,\n",
              " 1,\n",
              " 1,\n",
              " 1,\n",
              " 1,\n",
              " 1,\n",
              " 1,\n",
              " 1,\n",
              " 1,\n",
              " 1,\n",
              " 1,\n",
              " 1,\n",
              " 1,\n",
              " 1,\n",
              " 1,\n",
              " 1,\n",
              " 1,\n",
              " 0,\n",
              " 0,\n",
              " 0,\n",
              " 0,\n",
              " 0,\n",
              " 0,\n",
              " 0,\n",
              " 0,\n",
              " 0,\n",
              " 0,\n",
              " 0,\n",
              " 0,\n",
              " 0,\n",
              " 0,\n",
              " 0,\n",
              " 1,\n",
              " 1,\n",
              " 1,\n",
              " 1,\n",
              " 1,\n",
              " 1,\n",
              " 1,\n",
              " 1,\n",
              " 1,\n",
              " 1,\n",
              " 1,\n",
              " 1,\n",
              " 1,\n",
              " 1,\n",
              " 1,\n",
              " 1,\n",
              " 1,\n",
              " 1,\n",
              " 1,\n",
              " 1,\n",
              " 1,\n",
              " 1,\n",
              " 1,\n",
              " 1,\n",
              " 1,\n",
              " 1,\n",
              " 1,\n",
              " 1,\n",
              " 1,\n",
              " 1,\n",
              " 1,\n",
              " 1,\n",
              " 1,\n",
              " 1,\n",
              " 1,\n",
              " 1,\n",
              " 1,\n",
              " 1,\n",
              " 1,\n",
              " 1,\n",
              " 0,\n",
              " 0,\n",
              " 0,\n",
              " 0,\n",
              " 0,\n",
              " 0,\n",
              " 0,\n",
              " 0,\n",
              " 0,\n",
              " 0,\n",
              " 0,\n",
              " 0,\n",
              " 0,\n",
              " 0,\n",
              " 0,\n",
              " 0,\n",
              " 0,\n",
              " 0,\n",
              " 0,\n",
              " 0,\n",
              " 1,\n",
              " 1,\n",
              " 1,\n",
              " 1,\n",
              " 1,\n",
              " 1,\n",
              " 1,\n",
              " 1,\n",
              " 1,\n",
              " 1,\n",
              " 1,\n",
              " 1,\n",
              " 1,\n",
              " 1,\n",
              " 1,\n",
              " 1,\n",
              " 1,\n",
              " 1,\n",
              " 1,\n",
              " 1,\n",
              " 1,\n",
              " 1,\n",
              " 1,\n",
              " 1,\n",
              " 0,\n",
              " 1,\n",
              " 1,\n",
              " 1,\n",
              " 1,\n",
              " 1,\n",
              " 1,\n",
              " 1,\n",
              " 1,\n",
              " 0,\n",
              " 0,\n",
              " 0,\n",
              " 0,\n",
              " 0,\n",
              " 0,\n",
              " 0,\n",
              " 0,\n",
              " 0,\n",
              " 0,\n",
              " 0,\n",
              " 0,\n",
              " 0,\n",
              " 0,\n",
              " 0,\n",
              " 0,\n",
              " 0,\n",
              " 0,\n",
              " 0,\n",
              " 0,\n",
              " 0,\n",
              " 0,\n",
              " 1,\n",
              " 0,\n",
              " 0,\n",
              " 0,\n",
              " 1,\n",
              " 1,\n",
              " 1,\n",
              " 1,\n",
              " 1,\n",
              " 1,\n",
              " 1,\n",
              " 1,\n",
              " 1,\n",
              " 0,\n",
              " 0,\n",
              " 0,\n",
              " 0,\n",
              " 1,\n",
              " 1,\n",
              " 1,\n",
              " 1,\n",
              " 1,\n",
              " 0,\n",
              " 0,\n",
              " 0,\n",
              " 0,\n",
              " 1,\n",
              " 1,\n",
              " 1,\n",
              " 1,\n",
              " 1,\n",
              " 1,\n",
              " 0,\n",
              " 0,\n",
              " 0,\n",
              " 0,\n",
              " 0,\n",
              " 0,\n",
              " 0,\n",
              " 0,\n",
              " 0,\n",
              " 0,\n",
              " 0,\n",
              " 0,\n",
              " 0,\n",
              " 0,\n",
              " 0,\n",
              " 0,\n",
              " 0,\n",
              " 0,\n",
              " 0,\n",
              " 0,\n",
              " 0,\n",
              " 0,\n",
              " 0,\n",
              " 0,\n",
              " 0,\n",
              " 0,\n",
              " 1,\n",
              " 1,\n",
              " 1,\n",
              " 1,\n",
              " 1,\n",
              " 1,\n",
              " 1,\n",
              " 0,\n",
              " 0,\n",
              " 0,\n",
              " 0,\n",
              " 0,\n",
              " 0,\n",
              " 0,\n",
              " 0,\n",
              " 1,\n",
              " 1,\n",
              " 1,\n",
              " 0,\n",
              " 0,\n",
              " 0,\n",
              " 0,\n",
              " 0,\n",
              " 0,\n",
              " 1,\n",
              " 0,\n",
              " 0,\n",
              " 0,\n",
              " 0,\n",
              " 0,\n",
              " 0,\n",
              " 0,\n",
              " 0,\n",
              " 0,\n",
              " 0,\n",
              " 0,\n",
              " 0,\n",
              " 0,\n",
              " 0,\n",
              " 0,\n",
              " 0,\n",
              " 0,\n",
              " 0,\n",
              " 0,\n",
              " 0,\n",
              " 0,\n",
              " 0,\n",
              " 0,\n",
              " 0,\n",
              " 0,\n",
              " 0,\n",
              " 0,\n",
              " 0,\n",
              " 0,\n",
              " 0,\n",
              " 0,\n",
              " 0,\n",
              " 0,\n",
              " 0,\n",
              " 0,\n",
              " 0,\n",
              " 0,\n",
              " 0,\n",
              " 0,\n",
              " 0,\n",
              " 0,\n",
              " 0,\n",
              " 0,\n",
              " 0,\n",
              " 0,\n",
              " 0,\n",
              " 0,\n",
              " 0,\n",
              " 0,\n",
              " 0,\n",
              " 0,\n",
              " 0,\n",
              " 0,\n",
              " 0,\n",
              " 0,\n",
              " 0,\n",
              " 0,\n",
              " 0,\n",
              " 0,\n",
              " 0,\n",
              " 0,\n",
              " 0,\n",
              " 0,\n",
              " 0,\n",
              " 0,\n",
              " 0,\n",
              " 0,\n",
              " 0,\n",
              " 0,\n",
              " 0,\n",
              " 0,\n",
              " 0,\n",
              " 0,\n",
              " 0,\n",
              " 0,\n",
              " 0,\n",
              " 0,\n",
              " 0,\n",
              " 0,\n",
              " 0,\n",
              " 0,\n",
              " 0,\n",
              " 0,\n",
              " 0,\n",
              " 0,\n",
              " 0,\n",
              " 0,\n",
              " 0,\n",
              " 0,\n",
              " 0,\n",
              " 0,\n",
              " 0,\n",
              " 0,\n",
              " 0,\n",
              " 0,\n",
              " 0,\n",
              " 0,\n",
              " 0,\n",
              " 0,\n",
              " 0,\n",
              " 0,\n",
              " 0,\n",
              " 0,\n",
              " 0,\n",
              " 0,\n",
              " 0,\n",
              " 0,\n",
              " 0,\n",
              " 0,\n",
              " 0,\n",
              " 0,\n",
              " 0,\n",
              " 0,\n",
              " 0,\n",
              " 0,\n",
              " 0,\n",
              " 0,\n",
              " 0,\n",
              " 0,\n",
              " 0,\n",
              " 0,\n",
              " 0,\n",
              " 0,\n",
              " 0,\n",
              " 0,\n",
              " 0,\n",
              " 0,\n",
              " 0,\n",
              " 0,\n",
              " 0,\n",
              " 0,\n",
              " 0,\n",
              " 0,\n",
              " 0,\n",
              " 0,\n",
              " 0,\n",
              " 0,\n",
              " 0,\n",
              " 0,\n",
              " 0,\n",
              " 0,\n",
              " ...]"
            ]
          },
          "execution_count": 61,
          "metadata": {},
          "output_type": "execute_result"
        }
      ],
      "source": [
        "predictions = result.predict() \n",
        "predictions_nominal = [0 if x < 0.5 else 1 for x in predictions]\n",
        "predictions_nominal \n",
        "\n"
      ]
    },
    {
      "cell_type": "code",
      "execution_count": null,
      "id": "581ef675",
      "metadata": {
        "id": "581ef675",
        "outputId": "b0c04940-3fa6-43bc-a448-1ce38dfd88b5"
      },
      "outputs": [
        {
          "name": "stdout",
          "output_type": "stream",
          "text": [
            "[[7965  794]\n",
            " [ 968 7715]]\n"
          ]
        }
      ],
      "source": [
        "#Confusion matrix\n",
        "\n",
        "print(confusion_matrix(df[\"STATUS\"], predictions_nominal))"
      ]
    },
    {
      "cell_type": "code",
      "execution_count": null,
      "id": "a96da7ea",
      "metadata": {
        "id": "a96da7ea",
        "outputId": "fbc3dffe-e790-4fc5-ea71-627a67ae87a6"
      },
      "outputs": [
        {
          "data": {
            "text/plain": [
              "0.898979474830868"
            ]
          },
          "execution_count": 62,
          "metadata": {},
          "output_type": "execute_result"
        }
      ],
      "source": [
        "#Accuracy Score - correct predictions / total number of data points\n",
        "accuracy_score = (7965+7715)/(7965+968+794+7715)\n",
        "accuracy_score"
      ]
    },
    {
      "cell_type": "code",
      "execution_count": null,
      "id": "aa8bd9ba",
      "metadata": {
        "id": "aa8bd9ba",
        "outputId": "83c9ca5f-d6a6-4935-ec03-e61335cc77c2"
      },
      "outputs": [
        {
          "name": "stdout",
          "output_type": "stream",
          "text": [
            "0.9678392164492474\n"
          ]
        }
      ],
      "source": [
        "\n",
        "fpr, tpr, thresholds =roc_curve(df[\"STATUS\"], predictions)\n",
        "roc_auc = auc(fpr, tpr) \n",
        "print(roc_auc)"
      ]
    },
    {
      "cell_type": "code",
      "execution_count": null,
      "id": "b4cd66ad",
      "metadata": {
        "id": "b4cd66ad",
        "outputId": "6580100a-0583-4249-9ec8-83227fc0f143"
      },
      "outputs": [
        {
          "data": {
            "image/png": "[encoded data removed]",
            "text/plain": [
              "<Figure size 432x288 with 1 Axes>"
            ]
          },
          "metadata": {
            "needs_background": "light"
          },
          "output_type": "display_data"
        }
      ],
      "source": [
        "#ROC Curve\n",
        "plt.title('ROC Curve for h1n1 Vaccine Classifier')\n",
        "plt.xlabel('False Positive Rate (1-Specificity)')\n",
        "plt.ylabel('True Positive Rate (Sensitivity)')\n",
        "plt.plot([0, 1], [0, 1],'r--')\n",
        "plt.xlim([0, 1])\n",
        "plt.ylim([0, 1])\n",
        "plt.plot(fpr, tpr, label = 'AUC =' +str(roc_auc))\n",
        "plt.legend(loc=4)\n",
        "plt.show()"
      ]
    },
    {
      "cell_type": "code",
      "execution_count": null,
      "id": "7cd22142",
      "metadata": {
        "id": "7cd22142",
        "outputId": "36f557c8-e06f-4ed0-bb97-abd51c284888"
      },
      "outputs": [
        {
          "name": "stdout",
          "output_type": "stream",
          "text": [
            "              precision    recall  f1-score   support\n",
            "\n",
            "           0      0.892     0.909     0.900      8759\n",
            "           1      0.907     0.889     0.898      8683\n",
            "\n",
            "    accuracy                          0.899     17442\n",
            "   macro avg      0.899     0.899     0.899     17442\n",
            "weighted avg      0.899     0.899     0.899     17442\n",
            "\n"
          ]
        }
      ],
      "source": [
        "#Classification Report\n",
        "print(classification_report(df[\"STATUS\"], predictions_nominal, digits = 3))"
      ]
    },
    {
      "cell_type": "code",
      "execution_count": null,
      "id": "3d368822",
      "metadata": {
        "id": "3d368822",
        "outputId": "61ddaf65-0a5a-4720-e4ba-774f8376df9f"
      },
      "outputs": [
        {
          "name": "stdout",
          "output_type": "stream",
          "text": [
            "                 Generalized Linear Model Regression Results                  \n",
            "==============================================================================\n",
            "Dep. Variable:                 STATUS   No. Observations:                17442\n",
            "Model:                            GLM   Df Residuals:                    17434\n",
            "Model Family:                Binomial   Df Model:                            7\n",
            "Link Function:                  Logit   Scale:                          1.0000\n",
            "Method:                          IRLS   Log-Likelihood:                -4053.5\n",
            "Date:                Sat, 16 Jul 2022   Deviance:                       8106.9\n",
            "Time:                        09:33:47   Pearson chi2:                 1.27e+04\n",
            "No. Iterations:                     7   Pseudo R-squ. (CS):             0.6021\n",
            "Covariance Type:            nonrobust                                         \n",
            "================================================================================\n",
            "                   coef    std err          z      P>|z|      [0.025      0.975]\n",
            "--------------------------------------------------------------------------------\n",
            "Intercept        2.9869      0.163     18.275      0.000       2.667       3.307\n",
            "C(FUEL)[T.1]    -1.2619      0.078    -16.253      0.000      -1.414      -1.110\n",
            "C(FUEL)[T.2]     3.5299      0.137     25.713      0.000       3.261       3.799\n",
            "C(FUEL)[T.3]    -0.7170      0.075     -9.560      0.000      -0.864      -0.570\n",
            "SIZE            -0.8958      0.026    -34.346      0.000      -0.947      -0.845\n",
            "FREQUENCY       -0.0355      0.002    -22.863      0.000      -0.039      -0.032\n",
            "DISTANCE        -0.0239      0.001    -30.121      0.000      -0.025      -0.022\n",
            "AIRFLOW          0.5688      0.012     49.321      0.000       0.546       0.591\n",
            "================================================================================\n"
          ]
        }
      ],
      "source": [
        "model9 = smf.glm(formula='''STATUS ~ C(FUEL)+SIZE+FREQUENCY+DISTANCE+AIRFLOW''', data=df, family=sm.families.Binomial())\n",
        "result = model9.fit()\n",
        "print(result.summary())"
      ]
    },
    {
      "cell_type": "code",
      "execution_count": null,
      "id": "1369a051",
      "metadata": {
        "id": "1369a051",
        "outputId": "1f05fdf5-1790-46dd-c8b2-cd66f3337469"
      },
      "outputs": [
        {
          "data": {
            "text/plain": [
              "[0,\n",
              " 0,\n",
              " 1,\n",
              " 1,\n",
              " 1,\n",
              " 1,\n",
              " 1,\n",
              " 1,\n",
              " 1,\n",
              " 1,\n",
              " 1,\n",
              " 1,\n",
              " 1,\n",
              " 1,\n",
              " 1,\n",
              " 1,\n",
              " 1,\n",
              " 1,\n",
              " 1,\n",
              " 1,\n",
              " 1,\n",
              " 1,\n",
              " 1,\n",
              " 1,\n",
              " 1,\n",
              " 1,\n",
              " 1,\n",
              " 1,\n",
              " 1,\n",
              " 1,\n",
              " 1,\n",
              " 1,\n",
              " 1,\n",
              " 1,\n",
              " 1,\n",
              " 1,\n",
              " 1,\n",
              " 1,\n",
              " 1,\n",
              " 1,\n",
              " 1,\n",
              " 1,\n",
              " 1,\n",
              " 1,\n",
              " 1,\n",
              " 1,\n",
              " 1,\n",
              " 1,\n",
              " 1,\n",
              " 1,\n",
              " 1,\n",
              " 1,\n",
              " 1,\n",
              " 1,\n",
              " 0,\n",
              " 0,\n",
              " 0,\n",
              " 0,\n",
              " 1,\n",
              " 1,\n",
              " 1,\n",
              " 1,\n",
              " 1,\n",
              " 1,\n",
              " 1,\n",
              " 1,\n",
              " 1,\n",
              " 1,\n",
              " 1,\n",
              " 1,\n",
              " 1,\n",
              " 1,\n",
              " 1,\n",
              " 1,\n",
              " 1,\n",
              " 1,\n",
              " 1,\n",
              " 1,\n",
              " 1,\n",
              " 1,\n",
              " 1,\n",
              " 1,\n",
              " 1,\n",
              " 1,\n",
              " 1,\n",
              " 1,\n",
              " 1,\n",
              " 1,\n",
              " 1,\n",
              " 1,\n",
              " 1,\n",
              " 1,\n",
              " 1,\n",
              " 1,\n",
              " 1,\n",
              " 1,\n",
              " 1,\n",
              " 1,\n",
              " 1,\n",
              " 1,\n",
              " 1,\n",
              " 1,\n",
              " 1,\n",
              " 1,\n",
              " 1,\n",
              " 1,\n",
              " 1,\n",
              " 1,\n",
              " 0,\n",
              " 0,\n",
              " 0,\n",
              " 0,\n",
              " 1,\n",
              " 1,\n",
              " 1,\n",
              " 1,\n",
              " 1,\n",
              " 1,\n",
              " 1,\n",
              " 1,\n",
              " 1,\n",
              " 1,\n",
              " 1,\n",
              " 1,\n",
              " 1,\n",
              " 1,\n",
              " 1,\n",
              " 1,\n",
              " 1,\n",
              " 1,\n",
              " 1,\n",
              " 1,\n",
              " 1,\n",
              " 1,\n",
              " 1,\n",
              " 1,\n",
              " 1,\n",
              " 1,\n",
              " 1,\n",
              " 1,\n",
              " 1,\n",
              " 1,\n",
              " 1,\n",
              " 1,\n",
              " 1,\n",
              " 1,\n",
              " 1,\n",
              " 1,\n",
              " 1,\n",
              " 1,\n",
              " 1,\n",
              " 1,\n",
              " 1,\n",
              " 1,\n",
              " 1,\n",
              " 1,\n",
              " 1,\n",
              " 1,\n",
              " 1,\n",
              " 1,\n",
              " 1,\n",
              " 1,\n",
              " 0,\n",
              " 0,\n",
              " 0,\n",
              " 0,\n",
              " 0,\n",
              " 1,\n",
              " 1,\n",
              " 1,\n",
              " 1,\n",
              " 1,\n",
              " 1,\n",
              " 1,\n",
              " 1,\n",
              " 1,\n",
              " 1,\n",
              " 1,\n",
              " 1,\n",
              " 1,\n",
              " 1,\n",
              " 1,\n",
              " 1,\n",
              " 1,\n",
              " 1,\n",
              " 1,\n",
              " 1,\n",
              " 1,\n",
              " 1,\n",
              " 1,\n",
              " 1,\n",
              " 1,\n",
              " 1,\n",
              " 1,\n",
              " 1,\n",
              " 1,\n",
              " 1,\n",
              " 1,\n",
              " 1,\n",
              " 1,\n",
              " 1,\n",
              " 1,\n",
              " 1,\n",
              " 1,\n",
              " 1,\n",
              " 1,\n",
              " 1,\n",
              " 1,\n",
              " 1,\n",
              " 1,\n",
              " 1,\n",
              " 1,\n",
              " 1,\n",
              " 1,\n",
              " 1,\n",
              " 1,\n",
              " 0,\n",
              " 0,\n",
              " 0,\n",
              " 0,\n",
              " 0,\n",
              " 1,\n",
              " 1,\n",
              " 1,\n",
              " 1,\n",
              " 1,\n",
              " 1,\n",
              " 1,\n",
              " 1,\n",
              " 1,\n",
              " 1,\n",
              " 1,\n",
              " 1,\n",
              " 1,\n",
              " 1,\n",
              " 1,\n",
              " 1,\n",
              " 1,\n",
              " 1,\n",
              " 1,\n",
              " 1,\n",
              " 1,\n",
              " 1,\n",
              " 1,\n",
              " 1,\n",
              " 1,\n",
              " 1,\n",
              " 1,\n",
              " 1,\n",
              " 1,\n",
              " 1,\n",
              " 1,\n",
              " 1,\n",
              " 1,\n",
              " 1,\n",
              " 1,\n",
              " 1,\n",
              " 1,\n",
              " 1,\n",
              " 1,\n",
              " 1,\n",
              " 1,\n",
              " 1,\n",
              " 1,\n",
              " 1,\n",
              " 1,\n",
              " 1,\n",
              " 1,\n",
              " 1,\n",
              " 1,\n",
              " 0,\n",
              " 0,\n",
              " 0,\n",
              " 0,\n",
              " 0,\n",
              " 1,\n",
              " 1,\n",
              " 1,\n",
              " 1,\n",
              " 1,\n",
              " 1,\n",
              " 1,\n",
              " 1,\n",
              " 1,\n",
              " 1,\n",
              " 1,\n",
              " 1,\n",
              " 1,\n",
              " 1,\n",
              " 1,\n",
              " 1,\n",
              " 1,\n",
              " 1,\n",
              " 1,\n",
              " 1,\n",
              " 1,\n",
              " 1,\n",
              " 1,\n",
              " 1,\n",
              " 1,\n",
              " 1,\n",
              " 1,\n",
              " 1,\n",
              " 1,\n",
              " 1,\n",
              " 1,\n",
              " 1,\n",
              " 1,\n",
              " 1,\n",
              " 1,\n",
              " 1,\n",
              " 1,\n",
              " 1,\n",
              " 1,\n",
              " 1,\n",
              " 1,\n",
              " 1,\n",
              " 1,\n",
              " 1,\n",
              " 1,\n",
              " 1,\n",
              " 1,\n",
              " 1,\n",
              " 1,\n",
              " 0,\n",
              " 0,\n",
              " 0,\n",
              " 0,\n",
              " 0,\n",
              " 0,\n",
              " 0,\n",
              " 1,\n",
              " 1,\n",
              " 1,\n",
              " 1,\n",
              " 1,\n",
              " 1,\n",
              " 1,\n",
              " 1,\n",
              " 1,\n",
              " 1,\n",
              " 1,\n",
              " 1,\n",
              " 1,\n",
              " 1,\n",
              " 1,\n",
              " 1,\n",
              " 1,\n",
              " 1,\n",
              " 1,\n",
              " 1,\n",
              " 1,\n",
              " 1,\n",
              " 1,\n",
              " 1,\n",
              " 1,\n",
              " 1,\n",
              " 1,\n",
              " 1,\n",
              " 1,\n",
              " 1,\n",
              " 1,\n",
              " 1,\n",
              " 1,\n",
              " 1,\n",
              " 1,\n",
              " 1,\n",
              " 1,\n",
              " 1,\n",
              " 1,\n",
              " 1,\n",
              " 1,\n",
              " 1,\n",
              " 1,\n",
              " 1,\n",
              " 1,\n",
              " 1,\n",
              " 1,\n",
              " 0,\n",
              " 0,\n",
              " 0,\n",
              " 0,\n",
              " 0,\n",
              " 0,\n",
              " 0,\n",
              " 1,\n",
              " 1,\n",
              " 1,\n",
              " 1,\n",
              " 1,\n",
              " 1,\n",
              " 1,\n",
              " 1,\n",
              " 1,\n",
              " 1,\n",
              " 1,\n",
              " 1,\n",
              " 1,\n",
              " 1,\n",
              " 1,\n",
              " 1,\n",
              " 1,\n",
              " 1,\n",
              " 1,\n",
              " 1,\n",
              " 1,\n",
              " 1,\n",
              " 1,\n",
              " 1,\n",
              " 1,\n",
              " 1,\n",
              " 1,\n",
              " 1,\n",
              " 1,\n",
              " 1,\n",
              " 1,\n",
              " 1,\n",
              " 1,\n",
              " 1,\n",
              " 1,\n",
              " 1,\n",
              " 1,\n",
              " 1,\n",
              " 1,\n",
              " 1,\n",
              " 1,\n",
              " 1,\n",
              " 1,\n",
              " 1,\n",
              " 1,\n",
              " 1,\n",
              " 1,\n",
              " 0,\n",
              " 0,\n",
              " 0,\n",
              " 0,\n",
              " 0,\n",
              " 0,\n",
              " 0,\n",
              " 1,\n",
              " 1,\n",
              " 1,\n",
              " 1,\n",
              " 1,\n",
              " 1,\n",
              " 1,\n",
              " 1,\n",
              " 1,\n",
              " 1,\n",
              " 1,\n",
              " 1,\n",
              " 1,\n",
              " 1,\n",
              " 1,\n",
              " 1,\n",
              " 1,\n",
              " 1,\n",
              " 1,\n",
              " 1,\n",
              " 1,\n",
              " 1,\n",
              " 1,\n",
              " 1,\n",
              " 1,\n",
              " 1,\n",
              " 1,\n",
              " 1,\n",
              " 1,\n",
              " 1,\n",
              " 1,\n",
              " 1,\n",
              " 1,\n",
              " 1,\n",
              " 1,\n",
              " 1,\n",
              " 1,\n",
              " 1,\n",
              " 1,\n",
              " 1,\n",
              " 1,\n",
              " 1,\n",
              " 1,\n",
              " 1,\n",
              " 1,\n",
              " 1,\n",
              " 0,\n",
              " 0,\n",
              " 0,\n",
              " 0,\n",
              " 0,\n",
              " 0,\n",
              " 0,\n",
              " 0,\n",
              " 0,\n",
              " 1,\n",
              " 1,\n",
              " 1,\n",
              " 1,\n",
              " 1,\n",
              " 1,\n",
              " 1,\n",
              " 1,\n",
              " 1,\n",
              " 1,\n",
              " 1,\n",
              " 1,\n",
              " 1,\n",
              " 1,\n",
              " 1,\n",
              " 1,\n",
              " 1,\n",
              " 1,\n",
              " 1,\n",
              " 1,\n",
              " 1,\n",
              " 1,\n",
              " 1,\n",
              " 1,\n",
              " 1,\n",
              " 1,\n",
              " 1,\n",
              " 1,\n",
              " 1,\n",
              " 1,\n",
              " 1,\n",
              " 1,\n",
              " 1,\n",
              " 1,\n",
              " 1,\n",
              " 1,\n",
              " 1,\n",
              " 1,\n",
              " 1,\n",
              " 1,\n",
              " 1,\n",
              " 1,\n",
              " 1,\n",
              " 1,\n",
              " 1,\n",
              " 0,\n",
              " 0,\n",
              " 0,\n",
              " 0,\n",
              " 0,\n",
              " 0,\n",
              " 0,\n",
              " 0,\n",
              " 0,\n",
              " 0,\n",
              " 1,\n",
              " 1,\n",
              " 1,\n",
              " 1,\n",
              " 1,\n",
              " 1,\n",
              " 1,\n",
              " 1,\n",
              " 1,\n",
              " 1,\n",
              " 1,\n",
              " 1,\n",
              " 1,\n",
              " 1,\n",
              " 1,\n",
              " 1,\n",
              " 1,\n",
              " 1,\n",
              " 1,\n",
              " 1,\n",
              " 1,\n",
              " 1,\n",
              " 1,\n",
              " 1,\n",
              " 1,\n",
              " 1,\n",
              " 1,\n",
              " 1,\n",
              " 1,\n",
              " 1,\n",
              " 1,\n",
              " 1,\n",
              " 1,\n",
              " 1,\n",
              " 1,\n",
              " 1,\n",
              " 1,\n",
              " 1,\n",
              " 1,\n",
              " 1,\n",
              " 1,\n",
              " 1,\n",
              " 1,\n",
              " 1,\n",
              " 0,\n",
              " 0,\n",
              " 0,\n",
              " 0,\n",
              " 0,\n",
              " 0,\n",
              " 0,\n",
              " 0,\n",
              " 0,\n",
              " 0,\n",
              " 1,\n",
              " 0,\n",
              " 1,\n",
              " 1,\n",
              " 1,\n",
              " 1,\n",
              " 1,\n",
              " 1,\n",
              " 1,\n",
              " 1,\n",
              " 1,\n",
              " 1,\n",
              " 1,\n",
              " 1,\n",
              " 1,\n",
              " 1,\n",
              " 1,\n",
              " 1,\n",
              " 1,\n",
              " 1,\n",
              " 1,\n",
              " 1,\n",
              " 1,\n",
              " 1,\n",
              " 1,\n",
              " 1,\n",
              " 1,\n",
              " 1,\n",
              " 1,\n",
              " 1,\n",
              " 1,\n",
              " 1,\n",
              " 1,\n",
              " 1,\n",
              " 1,\n",
              " 1,\n",
              " 1,\n",
              " 1,\n",
              " 1,\n",
              " 1,\n",
              " 1,\n",
              " 1,\n",
              " 1,\n",
              " 0,\n",
              " 0,\n",
              " 0,\n",
              " 0,\n",
              " 0,\n",
              " 0,\n",
              " 0,\n",
              " 0,\n",
              " 0,\n",
              " 0,\n",
              " 0,\n",
              " 0,\n",
              " 0,\n",
              " 0,\n",
              " 0,\n",
              " 1,\n",
              " 1,\n",
              " 1,\n",
              " 1,\n",
              " 1,\n",
              " 1,\n",
              " 1,\n",
              " 1,\n",
              " 1,\n",
              " 1,\n",
              " 1,\n",
              " 1,\n",
              " 1,\n",
              " 1,\n",
              " 1,\n",
              " 1,\n",
              " 1,\n",
              " 1,\n",
              " 1,\n",
              " 1,\n",
              " 1,\n",
              " 1,\n",
              " 1,\n",
              " 1,\n",
              " 1,\n",
              " 1,\n",
              " 1,\n",
              " 1,\n",
              " 1,\n",
              " 1,\n",
              " 1,\n",
              " 1,\n",
              " 1,\n",
              " 1,\n",
              " 1,\n",
              " 1,\n",
              " 1,\n",
              " 1,\n",
              " 1,\n",
              " 1,\n",
              " 0,\n",
              " 0,\n",
              " 0,\n",
              " 0,\n",
              " 0,\n",
              " 0,\n",
              " 0,\n",
              " 0,\n",
              " 0,\n",
              " 0,\n",
              " 0,\n",
              " 0,\n",
              " 0,\n",
              " 0,\n",
              " 0,\n",
              " 0,\n",
              " 0,\n",
              " 0,\n",
              " 0,\n",
              " 0,\n",
              " 1,\n",
              " 0,\n",
              " 1,\n",
              " 1,\n",
              " 1,\n",
              " 1,\n",
              " 1,\n",
              " 1,\n",
              " 1,\n",
              " 1,\n",
              " 1,\n",
              " 1,\n",
              " 1,\n",
              " 1,\n",
              " 1,\n",
              " 1,\n",
              " 1,\n",
              " 1,\n",
              " 1,\n",
              " 1,\n",
              " 1,\n",
              " 1,\n",
              " 1,\n",
              " 1,\n",
              " 0,\n",
              " 1,\n",
              " 0,\n",
              " 1,\n",
              " 1,\n",
              " 1,\n",
              " 1,\n",
              " 1,\n",
              " 1,\n",
              " 0,\n",
              " 0,\n",
              " 0,\n",
              " 0,\n",
              " 0,\n",
              " 0,\n",
              " 0,\n",
              " 0,\n",
              " 0,\n",
              " 0,\n",
              " 0,\n",
              " 0,\n",
              " 0,\n",
              " 0,\n",
              " 0,\n",
              " 0,\n",
              " 0,\n",
              " 0,\n",
              " 0,\n",
              " 0,\n",
              " 0,\n",
              " 0,\n",
              " 0,\n",
              " 0,\n",
              " 0,\n",
              " 0,\n",
              " 1,\n",
              " 1,\n",
              " 1,\n",
              " 1,\n",
              " 1,\n",
              " 1,\n",
              " 1,\n",
              " 1,\n",
              " 0,\n",
              " 0,\n",
              " 0,\n",
              " 0,\n",
              " 0,\n",
              " 1,\n",
              " 1,\n",
              " 1,\n",
              " 1,\n",
              " 1,\n",
              " 0,\n",
              " 0,\n",
              " 0,\n",
              " 0,\n",
              " 0,\n",
              " 1,\n",
              " 1,\n",
              " 1,\n",
              " 1,\n",
              " 1,\n",
              " 0,\n",
              " 0,\n",
              " 0,\n",
              " 0,\n",
              " 0,\n",
              " 0,\n",
              " 0,\n",
              " 0,\n",
              " 0,\n",
              " 0,\n",
              " 0,\n",
              " 0,\n",
              " 0,\n",
              " 0,\n",
              " 0,\n",
              " 0,\n",
              " 0,\n",
              " 0,\n",
              " 0,\n",
              " 0,\n",
              " 0,\n",
              " 0,\n",
              " 0,\n",
              " 0,\n",
              " 0,\n",
              " 1,\n",
              " 1,\n",
              " 1,\n",
              " 1,\n",
              " 1,\n",
              " 1,\n",
              " 1,\n",
              " 1,\n",
              " 0,\n",
              " 0,\n",
              " 0,\n",
              " 0,\n",
              " 0,\n",
              " 0,\n",
              " 0,\n",
              " 0,\n",
              " 1,\n",
              " 1,\n",
              " 1,\n",
              " 0,\n",
              " 0,\n",
              " 0,\n",
              " 0,\n",
              " 0,\n",
              " 0,\n",
              " 1,\n",
              " 0,\n",
              " 1,\n",
              " 0,\n",
              " 0,\n",
              " 0,\n",
              " 0,\n",
              " 0,\n",
              " 0,\n",
              " 0,\n",
              " 0,\n",
              " 0,\n",
              " 0,\n",
              " 0,\n",
              " 0,\n",
              " 0,\n",
              " 0,\n",
              " 0,\n",
              " 0,\n",
              " 0,\n",
              " 0,\n",
              " 0,\n",
              " 0,\n",
              " 0,\n",
              " 0,\n",
              " 0,\n",
              " 0,\n",
              " 0,\n",
              " 0,\n",
              " 0,\n",
              " 0,\n",
              " 0,\n",
              " 0,\n",
              " 0,\n",
              " 0,\n",
              " 0,\n",
              " 0,\n",
              " 0,\n",
              " 0,\n",
              " 0,\n",
              " 0,\n",
              " 0,\n",
              " 0,\n",
              " 0,\n",
              " 0,\n",
              " 0,\n",
              " 0,\n",
              " 0,\n",
              " 0,\n",
              " 0,\n",
              " 0,\n",
              " 0,\n",
              " 0,\n",
              " 0,\n",
              " 0,\n",
              " 0,\n",
              " 0,\n",
              " 0,\n",
              " 0,\n",
              " 0,\n",
              " 0,\n",
              " 0,\n",
              " 0,\n",
              " 0,\n",
              " 0,\n",
              " 0,\n",
              " 0,\n",
              " 0,\n",
              " 0,\n",
              " 0,\n",
              " 0,\n",
              " 0,\n",
              " 0,\n",
              " 0,\n",
              " 0,\n",
              " 0,\n",
              " 0,\n",
              " 0,\n",
              " 0,\n",
              " 0,\n",
              " 0,\n",
              " 0,\n",
              " 0,\n",
              " 0,\n",
              " 0,\n",
              " 0,\n",
              " 0,\n",
              " 0,\n",
              " 0,\n",
              " 0,\n",
              " 0,\n",
              " 0,\n",
              " 0,\n",
              " 0,\n",
              " 0,\n",
              " 0,\n",
              " 0,\n",
              " 0,\n",
              " 0,\n",
              " 0,\n",
              " 0,\n",
              " 0,\n",
              " 0,\n",
              " 0,\n",
              " 0,\n",
              " 0,\n",
              " 0,\n",
              " 0,\n",
              " 0,\n",
              " 0,\n",
              " 0,\n",
              " 0,\n",
              " 0,\n",
              " 0,\n",
              " 0,\n",
              " 0,\n",
              " 0,\n",
              " 0,\n",
              " 0,\n",
              " 0,\n",
              " 0,\n",
              " 0,\n",
              " 0,\n",
              " 0,\n",
              " 0,\n",
              " 0,\n",
              " 0,\n",
              " 0,\n",
              " 0,\n",
              " 0,\n",
              " 0,\n",
              " 0,\n",
              " 0,\n",
              " 0,\n",
              " 0,\n",
              " 0,\n",
              " 0,\n",
              " 0,\n",
              " 0,\n",
              " 0,\n",
              " 0,\n",
              " 0,\n",
              " ...]"
            ]
          },
          "execution_count": 67,
          "metadata": {},
          "output_type": "execute_result"
        }
      ],
      "source": [
        "predictions = result.predict() \n",
        "predictions_nominal = [0 if x < 0.5 else 1 for x in predictions]\n",
        "predictions_nominal"
      ]
    },
    {
      "cell_type": "code",
      "execution_count": null,
      "id": "40aefbaa",
      "metadata": {
        "id": "40aefbaa",
        "outputId": "cfc56d54-afd6-4915-d090-1f914d6defa9"
      },
      "outputs": [
        {
          "name": "stdout",
          "output_type": "stream",
          "text": [
            "[[7982  777]\n",
            " [ 990 7693]]\n"
          ]
        }
      ],
      "source": [
        "#Confusion matrix\n",
        "\n",
        "print(confusion_matrix(df[\"STATUS\"], predictions_nominal))"
      ]
    },
    {
      "cell_type": "code",
      "execution_count": null,
      "id": "2500e9d5",
      "metadata": {
        "id": "2500e9d5",
        "outputId": "0824057b-6e26-4c13-d7aa-1edc06b3543d"
      },
      "outputs": [
        {
          "data": {
            "text/plain": [
              "0.8986928104575164"
            ]
          },
          "execution_count": 69,
          "metadata": {},
          "output_type": "execute_result"
        }
      ],
      "source": [
        "#Accuracy Score - correct predictions / total number of data points\n",
        "accuracy_score = (7982+7693)/(7982+7693+990+777)\n",
        "accuracy_score"
      ]
    },
    {
      "cell_type": "code",
      "execution_count": null,
      "id": "420a89ac",
      "metadata": {
        "id": "420a89ac"
      },
      "outputs": [],
      "source": []
    }
  ],
  "metadata": {
    "kernelspec": {
      "display_name": "Python 3 (ipykernel)",
      "language": "python",
      "name": "python3"
    },
    "language_info": {
      "codemirror_mode": {
        "name": "ipython",
        "version": 3
      },
      "file_extension": ".py",
      "mimetype": "text/x-python",
      "name": "python",
      "nbconvert_exporter": "python",
      "pygments_lexer": "ipython3",
      "version": "3.9.12"
    },
    "colab": {
      "provenance": [],
      "include_colab_link": true
    }
  },
  "nbformat": 4,
  "nbformat_minor": 5
}