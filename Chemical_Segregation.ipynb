{
  "cells": [
    {
      "cell_type": "markdown",
      "metadata": {
        "id": "view-in-github",
        "colab_type": "text"
      },
      "source": [
        "<a href=\"https://colab.research.google.com/github/madhurapi/ML-Projects/blob/main/Chemical_Segregation.ipynb\" target=\"_parent\"><img src=\"https://colab.research.google.com/assets/colab-badge.svg\" alt=\"Open In Colab\"/></a>"
      ]
    },
    {
      "cell_type": "code",
      "execution_count": 1,
      "id": "67147a9e",
      "metadata": {
        "id": "67147a9e"
      },
      "outputs": [],
      "source": [
        "import os\n",
        "import pandas as pd \n",
        "import warnings \n",
        "warnings.filterwarnings('ignore') \n",
        "import numpy as np \n",
        "import matplotlib.pyplot as plt \n",
        "import seaborn as sns \n",
        "import scipy\n",
        "from scipy import stats \n",
        "import statsmodels.api as sm \n",
        "from statsmodels.formula.api import ols \n",
        "from statsmodels.stats.multicomp import pairwise_tukeyhsd \n",
        "from scipy.stats import chi2, chi2_contingency\n",
        "import statsmodels.formula.api as smf\n",
        "from sklearn.linear_model import LinearRegression\n",
        "from sklearn.preprocessing import LabelEncoder, OneHotEncoder"
      ]
    },
    {
      "cell_type": "code",
      "execution_count": 5,
      "id": "6c288f64",
      "metadata": {
        "id": "6c288f64"
      },
      "outputs": [],
      "source": [
        "df = pd.read_excel(open( '/content/drive/MyDrive/Colab Notebooks/ML Basic Projects/Chemical Segregation.xlsx','rb'),\n",
        "              sheet_name='Train data')"
      ]
    },
    {
      "cell_type": "code",
      "source": [
        "from google.colab import drive\n",
        "drive.mount('/content/drive')"
      ],
      "metadata": {
        "colab": {
          "base_uri": "https://localhost:8080/"
        },
        "id": "rQKNG8IBoyax",
        "outputId": "9cde8cd5-38df-4300-807a-95c02ddbac8f"
      },
      "id": "rQKNG8IBoyax",
      "execution_count": 3,
      "outputs": [
        {
          "output_type": "stream",
          "name": "stdout",
          "text": [
            "Mounted at /content/drive\n"
          ]
        }
      ]
    },
    {
      "cell_type": "code",
      "execution_count": 6,
      "id": "3e068669",
      "metadata": {
        "colab": {
          "base_uri": "https://localhost:8080/",
          "height": 206
        },
        "id": "3e068669",
        "outputId": "6858b93b-b51f-44be-e5c4-bd1717c2c0a6"
      },
      "outputs": [
        {
          "output_type": "execute_result",
          "data": {
            "text/plain": [
              "         f1        f2        f3  label\n",
              "0 -1.239375  0.749101 -0.528515      1\n",
              "1 -1.036070  0.801436 -1.283712      1\n",
              "2 -0.615579  1.579521 -1.391927      1\n",
              "3  1.335978  1.348651  1.433564      0\n",
              "4  0.658925  1.300019  0.571603      0"
            ],
            "text/html": [
              "\n",
              "  <div id=\"df-a01e4422-8027-4058-9fd6-f98aa6229e12\">\n",
              "    <div class=\"colab-df-container\">\n",
              "      <div>\n",
              "<style scoped>\n",
              "    .dataframe tbody tr th:only-of-type {\n",
              "        vertical-align: middle;\n",
              "    }\n",
              "\n",
              "    .dataframe tbody tr th {\n",
              "        vertical-align: top;\n",
              "    }\n",
              "\n",
              "    .dataframe thead th {\n",
              "        text-align: right;\n",
              "    }\n",
              "</style>\n",
              "<table border=\"1\" class=\"dataframe\">\n",
              "  <thead>\n",
              "    <tr style=\"text-align: right;\">\n",
              "      <th></th>\n",
              "      <th>f1</th>\n",
              "      <th>f2</th>\n",
              "      <th>f3</th>\n",
              "      <th>label</th>\n",
              "    </tr>\n",
              "  </thead>\n",
              "  <tbody>\n",
              "    <tr>\n",
              "      <th>0</th>\n",
              "      <td>-1.239375</td>\n",
              "      <td>0.749101</td>\n",
              "      <td>-0.528515</td>\n",
              "      <td>1</td>\n",
              "    </tr>\n",
              "    <tr>\n",
              "      <th>1</th>\n",
              "      <td>-1.036070</td>\n",
              "      <td>0.801436</td>\n",
              "      <td>-1.283712</td>\n",
              "      <td>1</td>\n",
              "    </tr>\n",
              "    <tr>\n",
              "      <th>2</th>\n",
              "      <td>-0.615579</td>\n",
              "      <td>1.579521</td>\n",
              "      <td>-1.391927</td>\n",
              "      <td>1</td>\n",
              "    </tr>\n",
              "    <tr>\n",
              "      <th>3</th>\n",
              "      <td>1.335978</td>\n",
              "      <td>1.348651</td>\n",
              "      <td>1.433564</td>\n",
              "      <td>0</td>\n",
              "    </tr>\n",
              "    <tr>\n",
              "      <th>4</th>\n",
              "      <td>0.658925</td>\n",
              "      <td>1.300019</td>\n",
              "      <td>0.571603</td>\n",
              "      <td>0</td>\n",
              "    </tr>\n",
              "  </tbody>\n",
              "</table>\n",
              "</div>\n",
              "      <button class=\"colab-df-convert\" onclick=\"convertToInteractive('df-a01e4422-8027-4058-9fd6-f98aa6229e12')\"\n",
              "              title=\"Convert this dataframe to an interactive table.\"\n",
              "              style=\"display:none;\">\n",
              "        \n",
              "  <svg xmlns=\"http://www.w3.org/2000/svg\" height=\"24px\"viewBox=\"0 0 24 24\"\n",
              "       width=\"24px\">\n",
              "    <path d=\"M0 0h24v24H0V0z\" fill=\"none\"/>\n",
              "    <path d=\"M18.56 5.44l.94 2.06.94-2.06 2.06-.94-2.06-.94-.94-2.06-.94 2.06-2.06.94zm-11 1L8.5 8.5l.94-2.06 2.06-.94-2.06-.94L8.5 2.5l-.94 2.06-2.06.94zm10 10l.94 2.06.94-2.06 2.06-.94-2.06-.94-.94-2.06-.94 2.06-2.06.94z\"/><path d=\"M17.41 7.96l-1.37-1.37c-.4-.4-.92-.59-1.43-.59-.52 0-1.04.2-1.43.59L10.3 9.45l-7.72 7.72c-.78.78-.78 2.05 0 2.83L4 21.41c.39.39.9.59 1.41.59.51 0 1.02-.2 1.41-.59l7.78-7.78 2.81-2.81c.8-.78.8-2.07 0-2.86zM5.41 20L4 18.59l7.72-7.72 1.47 1.35L5.41 20z\"/>\n",
              "  </svg>\n",
              "      </button>\n",
              "      \n",
              "  <style>\n",
              "    .colab-df-container {\n",
              "      display:flex;\n",
              "      flex-wrap:wrap;\n",
              "      gap: 12px;\n",
              "    }\n",
              "\n",
              "    .colab-df-convert {\n",
              "      background-color: #E8F0FE;\n",
              "      border: none;\n",
              "      border-radius: 50%;\n",
              "      cursor: pointer;\n",
              "      display: none;\n",
              "      fill: #1967D2;\n",
              "      height: 32px;\n",
              "      padding: 0 0 0 0;\n",
              "      width: 32px;\n",
              "    }\n",
              "\n",
              "    .colab-df-convert:hover {\n",
              "      background-color: #E2EBFA;\n",
              "      box-shadow: 0px 1px 2px rgba(60, 64, 67, 0.3), 0px 1px 3px 1px rgba(60, 64, 67, 0.15);\n",
              "      fill: #174EA6;\n",
              "    }\n",
              "\n",
              "    [theme=dark] .colab-df-convert {\n",
              "      background-color: #3B4455;\n",
              "      fill: #D2E3FC;\n",
              "    }\n",
              "\n",
              "    [theme=dark] .colab-df-convert:hover {\n",
              "      background-color: #434B5C;\n",
              "      box-shadow: 0px 1px 3px 1px rgba(0, 0, 0, 0.15);\n",
              "      filter: drop-shadow(0px 1px 2px rgba(0, 0, 0, 0.3));\n",
              "      fill: #FFFFFF;\n",
              "    }\n",
              "  </style>\n",
              "\n",
              "      <script>\n",
              "        const buttonEl =\n",
              "          document.querySelector('#df-a01e4422-8027-4058-9fd6-f98aa6229e12 button.colab-df-convert');\n",
              "        buttonEl.style.display =\n",
              "          google.colab.kernel.accessAllowed ? 'block' : 'none';\n",
              "\n",
              "        async function convertToInteractive(key) {\n",
              "          const element = document.querySelector('#df-a01e4422-8027-4058-9fd6-f98aa6229e12');\n",
              "          const dataTable =\n",
              "            await google.colab.kernel.invokeFunction('convertToInteractive',\n",
              "                                                     [key], {});\n",
              "          if (!dataTable) return;\n",
              "\n",
              "          const docLinkHtml = 'Like what you see? Visit the ' +\n",
              "            '<a target=\"_blank\" href=https://colab.research.google.com/notebooks/data_table.ipynb>data table notebook</a>'\n",
              "            + ' to learn more about interactive tables.';\n",
              "          element.innerHTML = '';\n",
              "          dataTable['output_type'] = 'display_data';\n",
              "          await google.colab.output.renderOutput(dataTable, element);\n",
              "          const docLink = document.createElement('div');\n",
              "          docLink.innerHTML = docLinkHtml;\n",
              "          element.appendChild(docLink);\n",
              "        }\n",
              "      </script>\n",
              "    </div>\n",
              "  </div>\n",
              "  "
            ]
          },
          "metadata": {},
          "execution_count": 6
        }
      ],
      "source": [
        "df.head()"
      ]
    },
    {
      "cell_type": "code",
      "execution_count": 7,
      "id": "bd9d4bbc",
      "metadata": {
        "colab": {
          "base_uri": "https://localhost:8080/"
        },
        "id": "bd9d4bbc",
        "outputId": "7e35d7a6-f921-4712-c57c-edca61d00e9d"
      },
      "outputs": [
        {
          "output_type": "execute_result",
          "data": {
            "text/plain": [
              "f1       0\n",
              "f2       0\n",
              "f3       0\n",
              "label    0\n",
              "dtype: int64"
            ]
          },
          "metadata": {},
          "execution_count": 7
        }
      ],
      "source": [
        "df.isnull().sum()"
      ]
    },
    {
      "cell_type": "code",
      "execution_count": 8,
      "id": "02fc829b",
      "metadata": {
        "colab": {
          "base_uri": "https://localhost:8080/"
        },
        "id": "02fc829b",
        "outputId": "5ee28e3b-5e2e-4305-fbec-b033374a0520"
      },
      "outputs": [
        {
          "output_type": "stream",
          "name": "stdout",
          "text": [
            "<class 'pandas.core.frame.DataFrame'>\n",
            "RangeIndex: 3000 entries, 0 to 2999\n",
            "Data columns (total 4 columns):\n",
            " #   Column  Non-Null Count  Dtype  \n",
            "---  ------  --------------  -----  \n",
            " 0   f1      3000 non-null   float64\n",
            " 1   f2      3000 non-null   float64\n",
            " 2   f3      3000 non-null   float64\n",
            " 3   label   3000 non-null   int64  \n",
            "dtypes: float64(3), int64(1)\n",
            "memory usage: 93.9 KB\n"
          ]
        }
      ],
      "source": [
        "df.info()"
      ]
    },
    {
      "cell_type": "code",
      "execution_count": 9,
      "id": "cce716d5",
      "metadata": {
        "colab": {
          "base_uri": "https://localhost:8080/"
        },
        "id": "cce716d5",
        "outputId": "a6bf5aa9-a2f5-460d-c717-99777f582ec0"
      },
      "outputs": [
        {
          "output_type": "stream",
          "name": "stdout",
          "text": [
            "The first 5 rows of dataset:\n",
            "          f1        f2        f3  label\n",
            "0 -1.239375  0.749101 -0.528515      1\n",
            "1 -1.036070  0.801436 -1.283712      1\n",
            "2 -0.615579  1.579521 -1.391927      1\n",
            "3  1.335978  1.348651  1.433564      0\n",
            "4  0.658925  1.300019  0.571603      0\n",
            "\n",
            "\n",
            "The no. of row and columns are:\n",
            " (3000, 4)\n",
            "\n",
            "\n",
            "Datatype of each column is:\n",
            " f1       float64\n",
            "f2       float64\n",
            "f3       float64\n",
            "label      int64\n",
            "dtype: object\n",
            "\n",
            "\n",
            "The no. of null values in each column are:\n",
            " f1       0\n",
            "f2       0\n",
            "f3       0\n",
            "label    0\n",
            "dtype: int64\n",
            "\n",
            "\n",
            "Data Summary is:\n",
            "                 f1           f2           f3        label\n",
            "count  3000.000000  3000.000000  3000.000000  3000.000000\n",
            "mean      0.007453     0.999286     0.029487     0.497000\n",
            "std       1.334138     1.023853     1.209558     0.500074\n",
            "min      -3.470773    -3.692615    -3.286481     0.000000\n",
            "25%      -1.045220     0.325665    -0.986959     0.000000\n",
            "50%      -0.144115     1.004693     0.225411     0.000000\n",
            "75%       1.052555     1.693354     1.041319     1.000000\n",
            "max       3.741376     4.185015     2.706148     1.000000\n"
          ]
        }
      ],
      "source": [
        "def overlook(dataframe):\n",
        "    print('The first 5 rows of dataset:\\n',df.head())\n",
        "    print ('\\n')\n",
        "    print('The no. of row and columns are:\\n',df.shape)\n",
        "    print ('\\n')\n",
        "    print('Datatype of each column is:\\n',df.dtypes)\n",
        "    print ('\\n')\n",
        "    print('The no. of null values in each column are:\\n',df.isnull().sum())\n",
        "    print ('\\n')\n",
        "    print('Data Summary is:\\n',df.describe())\n",
        "    return\n",
        "\n",
        "overlook(df)"
      ]
    },
    {
      "cell_type": "code",
      "execution_count": 10,
      "id": "9d690fbd",
      "metadata": {
        "colab": {
          "base_uri": "https://localhost:8080/",
          "height": 279
        },
        "id": "9d690fbd",
        "outputId": "10b09638-4790-448b-cd0f-bc05de043bc5"
      },
      "outputs": [
        {
          "output_type": "display_data",
          "data": {
            "text/plain": [
              "<Figure size 432x288 with 1 Axes>"
            ],
            "image/png": "[encoded data removed]"
          },
          "metadata": {
            "needs_background": "light"
          }
        }
      ],
      "source": [
        "# count plot on single categorical variable\n",
        "sns.countplot(x ='label', data = df)\n",
        " \n",
        "# Show the plot\n",
        "plt.show()"
      ]
    },
    {
      "cell_type": "code",
      "execution_count": 11,
      "id": "0dee1f78",
      "metadata": {
        "colab": {
          "base_uri": "https://localhost:8080/",
          "height": 175
        },
        "id": "0dee1f78",
        "outputId": "c72129c5-7972-4484-8486-06f3ae1ec1b1"
      },
      "outputs": [
        {
          "output_type": "execute_result",
          "data": {
            "text/plain": [
              "             f1        f2        f3     label\n",
              "f1     1.000000  0.553890  0.650504 -0.763771\n",
              "f2     0.553890  1.000000  0.137088 -0.012690\n",
              "f3     0.650504  0.137088  1.000000 -0.817104\n",
              "label -0.763771 -0.012690 -0.817104  1.000000"
            ],
            "text/html": [
              "\n",
              "  <div id=\"df-480742bf-a328-4e8d-8288-97a913284e98\">\n",
              "    <div class=\"colab-df-container\">\n",
              "      <div>\n",
              "<style scoped>\n",
              "    .dataframe tbody tr th:only-of-type {\n",
              "        vertical-align: middle;\n",
              "    }\n",
              "\n",
              "    .dataframe tbody tr th {\n",
              "        vertical-align: top;\n",
              "    }\n",
              "\n",
              "    .dataframe thead th {\n",
              "        text-align: right;\n",
              "    }\n",
              "</style>\n",
              "<table border=\"1\" class=\"dataframe\">\n",
              "  <thead>\n",
              "    <tr style=\"text-align: right;\">\n",
              "      <th></th>\n",
              "      <th>f1</th>\n",
              "      <th>f2</th>\n",
              "      <th>f3</th>\n",
              "      <th>label</th>\n",
              "    </tr>\n",
              "  </thead>\n",
              "  <tbody>\n",
              "    <tr>\n",
              "      <th>f1</th>\n",
              "      <td>1.000000</td>\n",
              "      <td>0.553890</td>\n",
              "      <td>0.650504</td>\n",
              "      <td>-0.763771</td>\n",
              "    </tr>\n",
              "    <tr>\n",
              "      <th>f2</th>\n",
              "      <td>0.553890</td>\n",
              "      <td>1.000000</td>\n",
              "      <td>0.137088</td>\n",
              "      <td>-0.012690</td>\n",
              "    </tr>\n",
              "    <tr>\n",
              "      <th>f3</th>\n",
              "      <td>0.650504</td>\n",
              "      <td>0.137088</td>\n",
              "      <td>1.000000</td>\n",
              "      <td>-0.817104</td>\n",
              "    </tr>\n",
              "    <tr>\n",
              "      <th>label</th>\n",
              "      <td>-0.763771</td>\n",
              "      <td>-0.012690</td>\n",
              "      <td>-0.817104</td>\n",
              "      <td>1.000000</td>\n",
              "    </tr>\n",
              "  </tbody>\n",
              "</table>\n",
              "</div>\n",
              "      <button class=\"colab-df-convert\" onclick=\"convertToInteractive('df-480742bf-a328-4e8d-8288-97a913284e98')\"\n",
              "              title=\"Convert this dataframe to an interactive table.\"\n",
              "              style=\"display:none;\">\n",
              "        \n",
              "  <svg xmlns=\"http://www.w3.org/2000/svg\" height=\"24px\"viewBox=\"0 0 24 24\"\n",
              "       width=\"24px\">\n",
              "    <path d=\"M0 0h24v24H0V0z\" fill=\"none\"/>\n",
              "    <path d=\"M18.56 5.44l.94 2.06.94-2.06 2.06-.94-2.06-.94-.94-2.06-.94 2.06-2.06.94zm-11 1L8.5 8.5l.94-2.06 2.06-.94-2.06-.94L8.5 2.5l-.94 2.06-2.06.94zm10 10l.94 2.06.94-2.06 2.06-.94-2.06-.94-.94-2.06-.94 2.06-2.06.94z\"/><path d=\"M17.41 7.96l-1.37-1.37c-.4-.4-.92-.59-1.43-.59-.52 0-1.04.2-1.43.59L10.3 9.45l-7.72 7.72c-.78.78-.78 2.05 0 2.83L4 21.41c.39.39.9.59 1.41.59.51 0 1.02-.2 1.41-.59l7.78-7.78 2.81-2.81c.8-.78.8-2.07 0-2.86zM5.41 20L4 18.59l7.72-7.72 1.47 1.35L5.41 20z\"/>\n",
              "  </svg>\n",
              "      </button>\n",
              "      \n",
              "  <style>\n",
              "    .colab-df-container {\n",
              "      display:flex;\n",
              "      flex-wrap:wrap;\n",
              "      gap: 12px;\n",
              "    }\n",
              "\n",
              "    .colab-df-convert {\n",
              "      background-color: #E8F0FE;\n",
              "      border: none;\n",
              "      border-radius: 50%;\n",
              "      cursor: pointer;\n",
              "      display: none;\n",
              "      fill: #1967D2;\n",
              "      height: 32px;\n",
              "      padding: 0 0 0 0;\n",
              "      width: 32px;\n",
              "    }\n",
              "\n",
              "    .colab-df-convert:hover {\n",
              "      background-color: #E2EBFA;\n",
              "      box-shadow: 0px 1px 2px rgba(60, 64, 67, 0.3), 0px 1px 3px 1px rgba(60, 64, 67, 0.15);\n",
              "      fill: #174EA6;\n",
              "    }\n",
              "\n",
              "    [theme=dark] .colab-df-convert {\n",
              "      background-color: #3B4455;\n",
              "      fill: #D2E3FC;\n",
              "    }\n",
              "\n",
              "    [theme=dark] .colab-df-convert:hover {\n",
              "      background-color: #434B5C;\n",
              "      box-shadow: 0px 1px 3px 1px rgba(0, 0, 0, 0.15);\n",
              "      filter: drop-shadow(0px 1px 2px rgba(0, 0, 0, 0.3));\n",
              "      fill: #FFFFFF;\n",
              "    }\n",
              "  </style>\n",
              "\n",
              "      <script>\n",
              "        const buttonEl =\n",
              "          document.querySelector('#df-480742bf-a328-4e8d-8288-97a913284e98 button.colab-df-convert');\n",
              "        buttonEl.style.display =\n",
              "          google.colab.kernel.accessAllowed ? 'block' : 'none';\n",
              "\n",
              "        async function convertToInteractive(key) {\n",
              "          const element = document.querySelector('#df-480742bf-a328-4e8d-8288-97a913284e98');\n",
              "          const dataTable =\n",
              "            await google.colab.kernel.invokeFunction('convertToInteractive',\n",
              "                                                     [key], {});\n",
              "          if (!dataTable) return;\n",
              "\n",
              "          const docLinkHtml = 'Like what you see? Visit the ' +\n",
              "            '<a target=\"_blank\" href=https://colab.research.google.com/notebooks/data_table.ipynb>data table notebook</a>'\n",
              "            + ' to learn more about interactive tables.';\n",
              "          element.innerHTML = '';\n",
              "          dataTable['output_type'] = 'display_data';\n",
              "          await google.colab.output.renderOutput(dataTable, element);\n",
              "          const docLink = document.createElement('div');\n",
              "          docLink.innerHTML = docLinkHtml;\n",
              "          element.appendChild(docLink);\n",
              "        }\n",
              "      </script>\n",
              "    </div>\n",
              "  </div>\n",
              "  "
            ]
          },
          "metadata": {},
          "execution_count": 11
        }
      ],
      "source": [
        "df.corr()"
      ]
    },
    {
      "cell_type": "code",
      "execution_count": 12,
      "id": "6c6bdd46",
      "metadata": {
        "id": "6c6bdd46"
      },
      "outputs": [],
      "source": [
        "#relation of f2 with label is very low. Hence it may not be affecting. Still the factors are very less ,\n",
        "# currently dropping of variable is not carried out."
      ]
    },
    {
      "cell_type": "code",
      "execution_count": 13,
      "id": "4b6c4a81",
      "metadata": {
        "colab": {
          "base_uri": "https://localhost:8080/"
        },
        "id": "4b6c4a81",
        "outputId": "41ea9eff-7833-4a02-dc1f-357bdac2c2dc"
      },
      "outputs": [
        {
          "output_type": "stream",
          "name": "stdout",
          "text": [
            "<class 'pandas.core.frame.DataFrame'>\n",
            "RangeIndex: 3000 entries, 0 to 2999\n",
            "Data columns (total 3 columns):\n",
            " #   Column  Non-Null Count  Dtype  \n",
            "---  ------  --------------  -----  \n",
            " 0   f1      3000 non-null   float64\n",
            " 1   f2      3000 non-null   float64\n",
            " 2   f3      3000 non-null   float64\n",
            "dtypes: float64(3)\n",
            "memory usage: 70.4 KB\n",
            "<class 'pandas.core.frame.DataFrame'>\n",
            "RangeIndex: 3000 entries, 0 to 2999\n",
            "Data columns (total 1 columns):\n",
            " #   Column  Non-Null Count  Dtype\n",
            "---  ------  --------------  -----\n",
            " 0   label   3000 non-null   int64\n",
            "dtypes: int64(1)\n",
            "memory usage: 23.6 KB\n",
            "  feature       VIF\n",
            "0      f1  2.129324\n",
            "1      f2  1.244966\n",
            "2      f3  1.812211\n"
          ]
        }
      ],
      "source": [
        "from statsmodels.stats.outliers_influence import variance_inflation_factor\n",
        "Xx = df.iloc[:,[0,1,2]]\n",
        "y = df.iloc[:,[3]]\n",
        "Xx.info()\n",
        "y.info()\n",
        "\n",
        "vif_data = pd.DataFrame()\n",
        "vif_data[\"feature\"] = Xx.columns\n",
        "  \n",
        "# calculating VIF for each feature\n",
        "vif_data[\"VIF\"] = [variance_inflation_factor(Xx.values, i)\n",
        "                          for i in range(len(Xx.columns))]\n",
        "  \n",
        "print(vif_data)"
      ]
    },
    {
      "cell_type": "code",
      "execution_count": 14,
      "id": "fae92a03",
      "metadata": {
        "id": "fae92a03"
      },
      "outputs": [],
      "source": [
        "#All the VIF are less 10 hence will keep the column."
      ]
    },
    {
      "cell_type": "code",
      "execution_count": 15,
      "id": "272b6e90",
      "metadata": {
        "colab": {
          "base_uri": "https://localhost:8080/"
        },
        "id": "272b6e90",
        "outputId": "66ac57cb-04a2-486b-ed34-b49a02811d25"
      },
      "outputs": [
        {
          "output_type": "stream",
          "name": "stdout",
          "text": [
            "                            OLS Regression Results                            \n",
            "==============================================================================\n",
            "Dep. Variable:                  label   R-squared:                       0.896\n",
            "Model:                            OLS   Adj. R-squared:                  0.896\n",
            "Method:                 Least Squares   F-statistic:                     8637.\n",
            "Date:                Fri, 02 Dec 2022   Prob (F-statistic):               0.00\n",
            "Time:                        07:13:24   Log-Likelihood:                 1222.8\n",
            "No. Observations:                3000   AIC:                            -2438.\n",
            "Df Residuals:                    2996   BIC:                            -2414.\n",
            "Df Model:                           3                                         \n",
            "Covariance Type:            nonrobust                                         \n",
            "==============================================================================\n",
            "                 coef    std err          t      P>|t|      [0.025      0.975]\n",
            "------------------------------------------------------------------------------\n",
            "Intercept      0.2734      0.005     57.791      0.000       0.264       0.283\n",
            "f1            -0.2934      0.004    -79.498      0.000      -0.301      -0.286\n",
            "f2             0.2305      0.004     62.512      0.000       0.223       0.238\n",
            "f3            -0.1540      0.003    -45.011      0.000      -0.161      -0.147\n",
            "==============================================================================\n",
            "Omnibus:                      471.551   Durbin-Watson:                   2.020\n",
            "Prob(Omnibus):                  0.000   Jarque-Bera (JB):             2698.245\n",
            "Skew:                          -0.617   Prob(JB):                         0.00\n",
            "Kurtosis:                       7.479   Cond. No.                         3.99\n",
            "==============================================================================\n",
            "\n",
            "Notes:\n",
            "[1] Standard Errors assume that the covariance matrix of the errors is correctly specified.\n"
          ]
        }
      ],
      "source": [
        "model_2 = smf.ols(formula = 'label ~ f1 +f2 +f3', data=df).fit()\n",
        "print(model_2.summary())"
      ]
    },
    {
      "cell_type": "code",
      "execution_count": 16,
      "id": "c4d9aa75",
      "metadata": {
        "id": "c4d9aa75"
      },
      "outputs": [],
      "source": [
        "# According to smf.ols library the equation is:\n",
        "\n",
        "# label = 0.2734 + (-0.2934 * f1) + (0.2305*f2) + (-0.1540 * f3)\n",
        "\n",
        "# R -Square : 0.896\n",
        "# Durbin-Watson : 2.020"
      ]
    },
    {
      "cell_type": "code",
      "execution_count": 17,
      "id": "5e51db0b",
      "metadata": {
        "id": "5e51db0b"
      },
      "outputs": [],
      "source": [
        "from sklearn.metrics import classification_report, confusion_matrix\n",
        "x = df.iloc[:,[0,1,2]]\n",
        "y = df.iloc[:,3]  "
      ]
    },
    {
      "cell_type": "code",
      "execution_count": 18,
      "id": "deeee5cf",
      "metadata": {
        "colab": {
          "base_uri": "https://localhost:8080/"
        },
        "id": "deeee5cf",
        "outputId": "8ed1cf17-d2f1-4b76-c377-0ec7302a38fe"
      },
      "outputs": [
        {
          "output_type": "execute_result",
          "data": {
            "text/plain": [
              "array([[-3.68470635,  2.8811019 , -2.24745975]])"
            ]
          },
          "metadata": {},
          "execution_count": 18
        }
      ],
      "source": [
        "#solver liblinear\n",
        "from sklearn.linear_model import LogisticRegression\n",
        "model1 = LogisticRegression(solver='liblinear', random_state=0)\n",
        "model1.fit(x, y)\n",
        "\n",
        "model1.coef_"
      ]
    },
    {
      "cell_type": "code",
      "execution_count": 19,
      "id": "7c599eb4",
      "metadata": {
        "colab": {
          "base_uri": "https://localhost:8080/"
        },
        "id": "7c599eb4",
        "outputId": "895d0714-4976-4234-f11f-6be4fa266226"
      },
      "outputs": [
        {
          "output_type": "execute_result",
          "data": {
            "text/plain": [
              "array([-3.84066701])"
            ]
          },
          "metadata": {},
          "execution_count": 19
        }
      ],
      "source": [
        "model1.intercept_"
      ]
    },
    {
      "cell_type": "code",
      "execution_count": 20,
      "id": "3c33f2d2",
      "metadata": {
        "id": "3c33f2d2"
      },
      "outputs": [],
      "source": [
        "#Predictions\n",
        "y_pred = model1.predict(x)"
      ]
    },
    {
      "cell_type": "code",
      "execution_count": 21,
      "id": "966ba4a2",
      "metadata": {
        "colab": {
          "base_uri": "https://localhost:8080/"
        },
        "id": "966ba4a2",
        "outputId": "f23442e8-6665-4a83-b13f-eb37b4087051"
      },
      "outputs": [
        {
          "output_type": "stream",
          "name": "stdout",
          "text": [
            "[[1499   10]\n",
            " [   5 1486]]\n"
          ]
        }
      ],
      "source": [
        "#Confusion matrix\n",
        "from sklearn import metrics\n",
        "cm = metrics.confusion_matrix(y, y_pred)\n",
        "print(cm)"
      ]
    },
    {
      "cell_type": "code",
      "execution_count": 22,
      "id": "84245571",
      "metadata": {
        "colab": {
          "base_uri": "https://localhost:8080/"
        },
        "id": "84245571",
        "outputId": "8e2a7e45-8c82-4af2-eccd-c94683e2229a"
      },
      "outputs": [
        {
          "output_type": "execute_result",
          "data": {
            "text/plain": [
              "0.995"
            ]
          },
          "metadata": {},
          "execution_count": 22
        }
      ],
      "source": [
        "#Accuracy Score - correct predictions / total number of data points\n",
        "model1.score(x,y)"
      ]
    },
    {
      "cell_type": "code",
      "execution_count": 23,
      "id": "ed71168a",
      "metadata": {
        "colab": {
          "base_uri": "https://localhost:8080/"
        },
        "id": "ed71168a",
        "outputId": "eb456a38-e199-43c7-f812-08c1e13c57ff"
      },
      "outputs": [
        {
          "output_type": "stream",
          "name": "stdout",
          "text": [
            "0.9971852320016853\n"
          ]
        }
      ],
      "source": [
        "from sklearn.metrics import roc_curve, auc, roc_auc_score\n",
        "y_pred_prob = model1.predict_proba(x)\n",
        "fpr, tpr, thresholds =roc_curve(df[\"label\"], y_pred_prob[:,1])\n",
        "roc_auc = auc(fpr, tpr) #Area under Curve 0.997185 \n",
        "print(roc_auc)"
      ]
    },
    {
      "cell_type": "code",
      "execution_count": 24,
      "id": "6c90fea2",
      "metadata": {
        "colab": {
          "base_uri": "https://localhost:8080/",
          "height": 295
        },
        "id": "6c90fea2",
        "outputId": "f3091cb4-5177-4e2d-a70d-16b140c244c0"
      },
      "outputs": [
        {
          "output_type": "display_data",
          "data": {
            "text/plain": [
              "<Figure size 432x288 with 1 Axes>"
            ],
            "image/png": "[encoded data removed]"
          },
          "metadata": {
            "needs_background": "light"
          }
        }
      ],
      "source": [
        "#ROC Curve\n",
        "plt.title('ROC Curve for Chemical Segregation Classifier')\n",
        "plt.xlabel('False Positive Rate (1-Specificity)')\n",
        "plt.ylabel('True Positive Rate (Sensitivity)')\n",
        "plt.plot([0, 1], [0, 1],'r--')\n",
        "plt.xlim([0, 1])\n",
        "plt.ylim([0, 1])\n",
        "plt.plot(fpr, tpr, label = 'AUC =' +str(roc_auc))\n",
        "plt.legend(loc=4) #Location of label\n",
        "plt.show()"
      ]
    },
    {
      "cell_type": "code",
      "execution_count": 25,
      "id": "3d8245fe",
      "metadata": {
        "colab": {
          "base_uri": "https://localhost:8080/"
        },
        "id": "3d8245fe",
        "outputId": "cc46b224-4e59-4441-b6a6-04b593fcd791"
      },
      "outputs": [
        {
          "output_type": "stream",
          "name": "stdout",
          "text": [
            "              precision    recall  f1-score   support\n",
            "\n",
            "           0       1.00      0.99      1.00      1509\n",
            "           1       0.99      1.00      0.99      1491\n",
            "\n",
            "    accuracy                           0.99      3000\n",
            "   macro avg       0.99      1.00      0.99      3000\n",
            "weighted avg       1.00      0.99      1.00      3000\n",
            "\n"
          ]
        }
      ],
      "source": [
        "#Classification report\n",
        "from sklearn.metrics import classification_report\n",
        "print(classification_report(y, y_pred))"
      ]
    },
    {
      "cell_type": "code",
      "execution_count": 26,
      "id": "d072a638",
      "metadata": {
        "colab": {
          "base_uri": "https://localhost:8080/"
        },
        "id": "d072a638",
        "outputId": "b9cf41c3-bd4b-41cf-a45d-165596abbdae"
      },
      "outputs": [
        {
          "output_type": "execute_result",
          "data": {
            "text/plain": [
              "array([-4.27017148])"
            ]
          },
          "metadata": {},
          "execution_count": 26
        }
      ],
      "source": [
        "#solver lbfgs\n",
        "model2 = LogisticRegression(solver='lbfgs', random_state=0)\n",
        "model2.fit(x, y)\n",
        "model2.intercept_\n"
      ]
    },
    {
      "cell_type": "code",
      "execution_count": 27,
      "id": "6f226be1",
      "metadata": {
        "colab": {
          "base_uri": "https://localhost:8080/"
        },
        "id": "6f226be1",
        "outputId": "ea533612-1a41-428a-99fc-829e1eae6f65"
      },
      "outputs": [
        {
          "output_type": "execute_result",
          "data": {
            "text/plain": [
              "array([[-3.92798396,  3.10147056, -2.28040541]])"
            ]
          },
          "metadata": {},
          "execution_count": 27
        }
      ],
      "source": [
        "model2.coef_"
      ]
    },
    {
      "cell_type": "code",
      "execution_count": 28,
      "id": "5d1c1183",
      "metadata": {
        "id": "5d1c1183"
      },
      "outputs": [],
      "source": [
        "#Predictions\n",
        "y_pred = model1.predict(x)"
      ]
    },
    {
      "cell_type": "code",
      "execution_count": 29,
      "id": "26512889",
      "metadata": {
        "colab": {
          "base_uri": "https://localhost:8080/"
        },
        "id": "26512889",
        "outputId": "0adf0001-9d00-429b-9321-78fafc60ebf6"
      },
      "outputs": [
        {
          "output_type": "stream",
          "name": "stdout",
          "text": [
            "[[1499   10]\n",
            " [   5 1486]]\n"
          ]
        }
      ],
      "source": [
        "#Confusion matrix\n",
        "from sklearn import metrics\n",
        "cm = metrics.confusion_matrix(y, y_pred)\n",
        "print(cm)"
      ]
    },
    {
      "cell_type": "code",
      "execution_count": 30,
      "id": "8c66dd95",
      "metadata": {
        "colab": {
          "base_uri": "https://localhost:8080/"
        },
        "id": "8c66dd95",
        "outputId": "8830318d-f55c-4d84-9d7e-28796f244eab"
      },
      "outputs": [
        {
          "output_type": "execute_result",
          "data": {
            "text/plain": [
              "0.9953333333333333"
            ]
          },
          "metadata": {},
          "execution_count": 30
        }
      ],
      "source": [
        "model2.score(x,y) #0.99533"
      ]
    },
    {
      "cell_type": "code",
      "execution_count": 31,
      "id": "2f6dbf2b",
      "metadata": {
        "colab": {
          "base_uri": "https://localhost:8080/"
        },
        "id": "2f6dbf2b",
        "outputId": "508a1d52-d555-4f75-d37d-edc6afaae71e"
      },
      "outputs": [
        {
          "output_type": "stream",
          "name": "stdout",
          "text": [
            "              precision    recall  f1-score   support\n",
            "\n",
            "           0       1.00      0.99      1.00      1509\n",
            "           1       0.99      1.00      0.99      1491\n",
            "\n",
            "    accuracy                           0.99      3000\n",
            "   macro avg       0.99      1.00      0.99      3000\n",
            "weighted avg       1.00      0.99      1.00      3000\n",
            "\n"
          ]
        }
      ],
      "source": [
        "print(classification_report(y, y_pred))"
      ]
    },
    {
      "cell_type": "code",
      "source": [
        "from sklearn.model_selection import train_test_split\n",
        "X_train,X_test,y_train,y_test=train_test_split(x,y,test_size=0.30,random_state=42)"
      ],
      "metadata": {
        "id": "NvbxJJYXv_OY"
      },
      "id": "NvbxJJYXv_OY",
      "execution_count": 51,
      "outputs": []
    },
    {
      "cell_type": "code",
      "source": [
        "#solver lbfgs\n",
        "model3 = LogisticRegression(solver='lbfgs', random_state=0)\n",
        "model3.fit(X_train, y_train)\n",
        "print(model3.intercept_)\n",
        "\n",
        "y_pred = model3.predict(X_test)\n",
        "cm = metrics.confusion_matrix(y_test, y_pred)\n",
        "print(cm)\n",
        "\n",
        "print(classification_report(y_test, y_pred))\n",
        "\n",
        "# train prediction and accuracy\n",
        "print('train data')\n",
        "y_pred_train = model3.predict(X_train)\n",
        "cm = metrics.confusion_matrix(y_train, y_pred_train)\n",
        "print(cm)\n",
        "\n",
        "print(classification_report(y_train, y_pred_train))\n"
      ],
      "metadata": {
        "colab": {
          "base_uri": "https://localhost:8080/"
        },
        "id": "Ft97NXDUwH4Z",
        "outputId": "4083602c-d92b-4498-ace3-28932222c88b"
      },
      "id": "Ft97NXDUwH4Z",
      "execution_count": 52,
      "outputs": [
        {
          "output_type": "stream",
          "name": "stdout",
          "text": [
            "[-3.93765683]\n",
            "[[469   5]\n",
            " [  1 425]]\n",
            "              precision    recall  f1-score   support\n",
            "\n",
            "           0       1.00      0.99      0.99       474\n",
            "           1       0.99      1.00      0.99       426\n",
            "\n",
            "    accuracy                           0.99       900\n",
            "   macro avg       0.99      0.99      0.99       900\n",
            "weighted avg       0.99      0.99      0.99       900\n",
            "\n",
            "train data\n",
            "[[1030    5]\n",
            " [   4 1061]]\n",
            "              precision    recall  f1-score   support\n",
            "\n",
            "           0       1.00      1.00      1.00      1035\n",
            "           1       1.00      1.00      1.00      1065\n",
            "\n",
            "    accuracy                           1.00      2100\n",
            "   macro avg       1.00      1.00      1.00      2100\n",
            "weighted avg       1.00      1.00      1.00      2100\n",
            "\n"
          ]
        }
      ]
    },
    {
      "cell_type": "code",
      "source": [
        "from sklearn.ensemble import RandomForestClassifier\n",
        "model5=RandomForestClassifier(criterion='gini',max_depth=8,max_features='log2',n_estimators=200)\n",
        "model5.fit(X_train,y_train)\n",
        "#predictions - test\n",
        "y_pred2=model5.predict(X_test)\n",
        "\n",
        "print(\"confusion matrix_test\")\n",
        "print(confusion_matrix(y_test,y_pred2))\n",
        "\n",
        "print(\"classification report_test\")\n",
        "print(classification_report(y_test,y_pred2))\n",
        "\n",
        "#predictions-train\n",
        "y_pred2_train=model5.predict(X_train)\n",
        "print(\"confusion matrix_train\")\n",
        "print(confusion_matrix(y_train,y_pred2_train))\n",
        "\n",
        "print(\"classification report_train\")\n",
        "print(classification_report(y_train,y_pred2_train))"
      ],
      "metadata": {
        "colab": {
          "base_uri": "https://localhost:8080/"
        },
        "id": "85EQ-Tupw1pA",
        "outputId": "a7eda11c-e12a-4de1-ccfa-4ed5b241ffde"
      },
      "id": "85EQ-Tupw1pA",
      "execution_count": 54,
      "outputs": [
        {
          "output_type": "stream",
          "name": "stdout",
          "text": [
            "confusion matrix_test\n",
            "[[466   8]\n",
            " [  1 425]]\n",
            "classification report_test\n",
            "              precision    recall  f1-score   support\n",
            "\n",
            "           0       1.00      0.98      0.99       474\n",
            "           1       0.98      1.00      0.99       426\n",
            "\n",
            "    accuracy                           0.99       900\n",
            "   macro avg       0.99      0.99      0.99       900\n",
            "weighted avg       0.99      0.99      0.99       900\n",
            "\n",
            "confusion matrix_train\n",
            "[[1030    5]\n",
            " [   3 1062]]\n",
            "classification report_train\n",
            "              precision    recall  f1-score   support\n",
            "\n",
            "           0       1.00      1.00      1.00      1035\n",
            "           1       1.00      1.00      1.00      1065\n",
            "\n",
            "    accuracy                           1.00      2100\n",
            "   macro avg       1.00      1.00      1.00      2100\n",
            "weighted avg       1.00      1.00      1.00      2100\n",
            "\n"
          ]
        }
      ]
    },
    {
      "cell_type": "code",
      "source": [],
      "metadata": {
        "id": "cvGUSLPFxLA5"
      },
      "id": "cvGUSLPFxLA5",
      "execution_count": null,
      "outputs": []
    }
  ],
  "metadata": {
    "kernelspec": {
      "display_name": "Python 3 (ipykernel)",
      "language": "python",
      "name": "python3"
    },
    "language_info": {
      "codemirror_mode": {
        "name": "ipython",
        "version": 3
      },
      "file_extension": ".py",
      "mimetype": "text/x-python",
      "name": "python",
      "nbconvert_exporter": "python",
      "pygments_lexer": "ipython3",
      "version": "3.9.12"
    },
    "colab": {
      "provenance": [],
      "include_colab_link": true
    }
  },
  "nbformat": 4,
  "nbformat_minor": 5
}